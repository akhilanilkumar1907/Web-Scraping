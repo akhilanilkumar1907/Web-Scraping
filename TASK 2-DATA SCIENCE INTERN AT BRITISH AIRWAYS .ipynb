{
 "cells": [
  {
   "cell_type": "markdown",
   "id": "2d89729b",
   "metadata": {},
   "source": [
    "# Task 2\n",
    "\n",
    "---\n",
    "\n",
    "## Predictive modeling of customer bookings\n",
    "\n",
    "This Jupyter notebook includes some code to get you started with this predictive modeling task. We will use various packages for data manipulation, feature engineering and machine learning.\n",
    "\n",
    "### Exploratory data analysis\n",
    "\n",
    "First, we must explore the data in order to better understand what we have and the statistical properties of the dataset."
   ]
  },
  {
   "cell_type": "code",
   "execution_count": 1,
   "id": "175c9008",
   "metadata": {},
   "outputs": [],
   "source": [
    "import pandas as pd \n",
    "\n",
    "import numpy as np\n",
    "\n",
    "import matplotlib.pyplot as plt\n",
    "from matplotlib.colors import ListedColormap\n",
    "\n",
    "import seaborn as sns\n",
    "\n",
    "from warnings import filterwarnings\n",
    "filterwarnings('ignore')\n",
    "\n",
    "pd.options.display.max_columns = None\n",
    "\n",
    "pd.options.display.max_rows = None\n",
    " \n",
    "pd.options.display.float_format = '{:.6f}'.format\n",
    "\n",
    "from sklearn.model_selection import train_test_split\n",
    "\n",
    "import statsmodels\n",
    "import statsmodels.api as sm\n",
    "\n",
    "from sklearn.preprocessing import StandardScaler\n",
    "\n",
    "from sklearn import metrics\n",
    "from sklearn.linear_model import LogisticRegression\n",
    "from sklearn.metrics import classification_report\n",
    "from sklearn.metrics import cohen_kappa_score\n",
    "from sklearn.metrics import confusion_matrix\n",
    "from sklearn.metrics import roc_curve\n",
    "from sklearn.metrics import accuracy_score\n",
    "plt.rcParams['figure.figsize'] = [15,8]\n",
    "import warnings\n",
    "warnings.filterwarnings(\"ignore\")"
   ]
  },
  {
   "cell_type": "code",
   "execution_count": 2,
   "id": "4e507bd9",
   "metadata": {},
   "outputs": [
    {
     "data": {
      "text/html": [
       "<div>\n",
       "<style scoped>\n",
       "    .dataframe tbody tr th:only-of-type {\n",
       "        vertical-align: middle;\n",
       "    }\n",
       "\n",
       "    .dataframe tbody tr th {\n",
       "        vertical-align: top;\n",
       "    }\n",
       "\n",
       "    .dataframe thead th {\n",
       "        text-align: right;\n",
       "    }\n",
       "</style>\n",
       "<table border=\"1\" class=\"dataframe\">\n",
       "  <thead>\n",
       "    <tr style=\"text-align: right;\">\n",
       "      <th></th>\n",
       "      <th>num_passengers</th>\n",
       "      <th>sales_channel</th>\n",
       "      <th>trip_type</th>\n",
       "      <th>purchase_lead</th>\n",
       "      <th>length_of_stay</th>\n",
       "      <th>flight_hour</th>\n",
       "      <th>flight_day</th>\n",
       "      <th>route</th>\n",
       "      <th>booking_origin</th>\n",
       "      <th>wants_extra_baggage</th>\n",
       "      <th>wants_preferred_seat</th>\n",
       "      <th>wants_in_flight_meals</th>\n",
       "      <th>flight_duration</th>\n",
       "      <th>booking_complete</th>\n",
       "    </tr>\n",
       "  </thead>\n",
       "  <tbody>\n",
       "    <tr>\n",
       "      <th>0</th>\n",
       "      <td>2</td>\n",
       "      <td>Internet</td>\n",
       "      <td>RoundTrip</td>\n",
       "      <td>262</td>\n",
       "      <td>19</td>\n",
       "      <td>7</td>\n",
       "      <td>Sat</td>\n",
       "      <td>AKLDEL</td>\n",
       "      <td>New Zealand</td>\n",
       "      <td>1</td>\n",
       "      <td>0</td>\n",
       "      <td>0</td>\n",
       "      <td>5.520000</td>\n",
       "      <td>0</td>\n",
       "    </tr>\n",
       "    <tr>\n",
       "      <th>1</th>\n",
       "      <td>1</td>\n",
       "      <td>Internet</td>\n",
       "      <td>RoundTrip</td>\n",
       "      <td>112</td>\n",
       "      <td>20</td>\n",
       "      <td>3</td>\n",
       "      <td>Sat</td>\n",
       "      <td>AKLDEL</td>\n",
       "      <td>New Zealand</td>\n",
       "      <td>0</td>\n",
       "      <td>0</td>\n",
       "      <td>0</td>\n",
       "      <td>5.520000</td>\n",
       "      <td>0</td>\n",
       "    </tr>\n",
       "    <tr>\n",
       "      <th>2</th>\n",
       "      <td>2</td>\n",
       "      <td>Internet</td>\n",
       "      <td>RoundTrip</td>\n",
       "      <td>243</td>\n",
       "      <td>22</td>\n",
       "      <td>17</td>\n",
       "      <td>Wed</td>\n",
       "      <td>AKLDEL</td>\n",
       "      <td>India</td>\n",
       "      <td>1</td>\n",
       "      <td>1</td>\n",
       "      <td>0</td>\n",
       "      <td>5.520000</td>\n",
       "      <td>0</td>\n",
       "    </tr>\n",
       "    <tr>\n",
       "      <th>3</th>\n",
       "      <td>1</td>\n",
       "      <td>Internet</td>\n",
       "      <td>RoundTrip</td>\n",
       "      <td>96</td>\n",
       "      <td>31</td>\n",
       "      <td>4</td>\n",
       "      <td>Sat</td>\n",
       "      <td>AKLDEL</td>\n",
       "      <td>New Zealand</td>\n",
       "      <td>0</td>\n",
       "      <td>0</td>\n",
       "      <td>1</td>\n",
       "      <td>5.520000</td>\n",
       "      <td>0</td>\n",
       "    </tr>\n",
       "    <tr>\n",
       "      <th>4</th>\n",
       "      <td>2</td>\n",
       "      <td>Internet</td>\n",
       "      <td>RoundTrip</td>\n",
       "      <td>68</td>\n",
       "      <td>22</td>\n",
       "      <td>15</td>\n",
       "      <td>Wed</td>\n",
       "      <td>AKLDEL</td>\n",
       "      <td>India</td>\n",
       "      <td>1</td>\n",
       "      <td>0</td>\n",
       "      <td>1</td>\n",
       "      <td>5.520000</td>\n",
       "      <td>0</td>\n",
       "    </tr>\n",
       "  </tbody>\n",
       "</table>\n",
       "</div>"
      ],
      "text/plain": [
       "   num_passengers sales_channel  trip_type  purchase_lead  length_of_stay  \\\n",
       "0               2      Internet  RoundTrip            262              19   \n",
       "1               1      Internet  RoundTrip            112              20   \n",
       "2               2      Internet  RoundTrip            243              22   \n",
       "3               1      Internet  RoundTrip             96              31   \n",
       "4               2      Internet  RoundTrip             68              22   \n",
       "\n",
       "   flight_hour flight_day   route booking_origin  wants_extra_baggage  \\\n",
       "0            7        Sat  AKLDEL    New Zealand                    1   \n",
       "1            3        Sat  AKLDEL    New Zealand                    0   \n",
       "2           17        Wed  AKLDEL          India                    1   \n",
       "3            4        Sat  AKLDEL    New Zealand                    0   \n",
       "4           15        Wed  AKLDEL          India                    1   \n",
       "\n",
       "   wants_preferred_seat  wants_in_flight_meals  flight_duration  \\\n",
       "0                     0                      0         5.520000   \n",
       "1                     0                      0         5.520000   \n",
       "2                     1                      0         5.520000   \n",
       "3                     0                      1         5.520000   \n",
       "4                     0                      1         5.520000   \n",
       "\n",
       "   booking_complete  \n",
       "0                 0  \n",
       "1                 0  \n",
       "2                 0  \n",
       "3                 0  \n",
       "4                 0  "
      ]
     },
     "execution_count": 2,
     "metadata": {},
     "output_type": "execute_result"
    }
   ],
   "source": [
    "df = pd.read_csv(r\"C:\\Users\\INDHUJA\\Downloads\\CAPSTON PROJECT\\BRITISH AIRWAYS\\DATA\\customer_booking.csv\", encoding=\"ISO-8859-1\")\n",
    "df.head()"
   ]
  },
  {
   "cell_type": "code",
   "execution_count": 3,
   "id": "dcbb30e2",
   "metadata": {},
   "outputs": [
    {
     "name": "stdout",
     "output_type": "stream",
     "text": [
      "<class 'pandas.core.frame.DataFrame'>\n",
      "RangeIndex: 50000 entries, 0 to 49999\n",
      "Data columns (total 14 columns):\n",
      " #   Column                 Non-Null Count  Dtype  \n",
      "---  ------                 --------------  -----  \n",
      " 0   num_passengers         50000 non-null  int64  \n",
      " 1   sales_channel          50000 non-null  object \n",
      " 2   trip_type              50000 non-null  object \n",
      " 3   purchase_lead          50000 non-null  int64  \n",
      " 4   length_of_stay         50000 non-null  int64  \n",
      " 5   flight_hour            50000 non-null  int64  \n",
      " 6   flight_day             50000 non-null  object \n",
      " 7   route                  50000 non-null  object \n",
      " 8   booking_origin         50000 non-null  object \n",
      " 9   wants_extra_baggage    50000 non-null  int64  \n",
      " 10  wants_preferred_seat   50000 non-null  int64  \n",
      " 11  wants_in_flight_meals  50000 non-null  int64  \n",
      " 12  flight_duration        50000 non-null  float64\n",
      " 13  booking_complete       50000 non-null  int64  \n",
      "dtypes: float64(1), int64(8), object(5)\n",
      "memory usage: 5.3+ MB\n"
     ]
    }
   ],
   "source": [
    "df.info()"
   ]
  },
  {
   "cell_type": "markdown",
   "id": "0f41334d",
   "metadata": {},
   "source": [
    "The `.info()` method gives us a data description, telling us the names of the columns, their data types and how many null values we have. Fortunately, we have no null values. It looks like some of these columns should be converted into different data types, e.g. flight_day.\n",
    "\n",
    "To provide more context, below is a more detailed data description, explaining exactly what each column means:\n",
    "\n",
    "- `num_passengers` = number of passengers travelling\n",
    "- `sales_channel` = sales channel booking was made on\n",
    "- `trip_type` = trip Type (Round Trip, One Way, Circle Trip)\n",
    "- `purchase_lead` = number of days between travel date and booking date\n",
    "- `length_of_stay` = number of days spent at destination\n",
    "- `flight_hour` = hour of flight departure\n",
    "- `flight_day` = day of week of flight departure\n",
    "- `route` = origin -> destination flight route\n",
    "- `booking_origin` = country from where booking was made\n",
    "- `wants_extra_baggage` = if the customer wanted extra baggage in the booking\n",
    "- `wants_preferred_seat` = if the customer wanted a preferred seat in the booking\n",
    "- `wants_in_flight_meals` = if the customer wanted in-flight meals in the booking\n",
    "- `flight_duration` = total duration of flight (in hours)\n",
    "- `booking_complete` = flag indicating if the customer completed the booking\n",
    "\n",
    "Before we compute any statistics on the data, lets do any necessary data conversion"
   ]
  },
  {
   "cell_type": "code",
   "execution_count": 4,
   "id": "c2d5bd29",
   "metadata": {},
   "outputs": [
    {
     "data": {
      "text/plain": [
       "array(['Sat', 'Wed', 'Thu', 'Mon', 'Sun', 'Tue', 'Fri'], dtype=object)"
      ]
     },
     "execution_count": 4,
     "metadata": {},
     "output_type": "execute_result"
    }
   ],
   "source": [
    "df[\"flight_day\"].unique()"
   ]
  },
  {
   "cell_type": "code",
   "execution_count": 5,
   "id": "9d659275",
   "metadata": {},
   "outputs": [],
   "source": [
    "mapping = {\n",
    "    \"Mon\": 1,\n",
    "    \"Tue\": 2,\n",
    "    \"Wed\": 3,\n",
    "    \"Thu\": 4,\n",
    "    \"Fri\": 5,\n",
    "    \"Sat\": 6,\n",
    "    \"Sun\": 7,\n",
    "}\n",
    "\n",
    "df[\"flight_day\"] = df[\"flight_day\"].map(mapping)"
   ]
  },
  {
   "cell_type": "code",
   "execution_count": 6,
   "id": "b287f93d",
   "metadata": {},
   "outputs": [
    {
     "data": {
      "text/plain": [
       "array([6, 3, 4, 1, 7, 2, 5], dtype=int64)"
      ]
     },
     "execution_count": 6,
     "metadata": {},
     "output_type": "execute_result"
    }
   ],
   "source": [
    "df[\"flight_day\"].unique()"
   ]
  },
  {
   "cell_type": "code",
   "execution_count": 7,
   "id": "80edf4d3",
   "metadata": {},
   "outputs": [
    {
     "data": {
      "text/html": [
       "<div>\n",
       "<style scoped>\n",
       "    .dataframe tbody tr th:only-of-type {\n",
       "        vertical-align: middle;\n",
       "    }\n",
       "\n",
       "    .dataframe tbody tr th {\n",
       "        vertical-align: top;\n",
       "    }\n",
       "\n",
       "    .dataframe thead th {\n",
       "        text-align: right;\n",
       "    }\n",
       "</style>\n",
       "<table border=\"1\" class=\"dataframe\">\n",
       "  <thead>\n",
       "    <tr style=\"text-align: right;\">\n",
       "      <th></th>\n",
       "      <th>num_passengers</th>\n",
       "      <th>purchase_lead</th>\n",
       "      <th>length_of_stay</th>\n",
       "      <th>flight_hour</th>\n",
       "      <th>flight_day</th>\n",
       "      <th>wants_extra_baggage</th>\n",
       "      <th>wants_preferred_seat</th>\n",
       "      <th>wants_in_flight_meals</th>\n",
       "      <th>flight_duration</th>\n",
       "      <th>booking_complete</th>\n",
       "    </tr>\n",
       "  </thead>\n",
       "  <tbody>\n",
       "    <tr>\n",
       "      <th>count</th>\n",
       "      <td>50000.000000</td>\n",
       "      <td>50000.000000</td>\n",
       "      <td>50000.000000</td>\n",
       "      <td>50000.000000</td>\n",
       "      <td>50000.000000</td>\n",
       "      <td>50000.000000</td>\n",
       "      <td>50000.000000</td>\n",
       "      <td>50000.000000</td>\n",
       "      <td>50000.000000</td>\n",
       "      <td>50000.000000</td>\n",
       "    </tr>\n",
       "    <tr>\n",
       "      <th>mean</th>\n",
       "      <td>1.591240</td>\n",
       "      <td>84.940480</td>\n",
       "      <td>23.044560</td>\n",
       "      <td>9.066340</td>\n",
       "      <td>3.814420</td>\n",
       "      <td>0.668780</td>\n",
       "      <td>0.296960</td>\n",
       "      <td>0.427140</td>\n",
       "      <td>7.277561</td>\n",
       "      <td>0.149560</td>\n",
       "    </tr>\n",
       "    <tr>\n",
       "      <th>std</th>\n",
       "      <td>1.020165</td>\n",
       "      <td>90.451378</td>\n",
       "      <td>33.887670</td>\n",
       "      <td>5.412660</td>\n",
       "      <td>1.992792</td>\n",
       "      <td>0.470657</td>\n",
       "      <td>0.456923</td>\n",
       "      <td>0.494668</td>\n",
       "      <td>1.496863</td>\n",
       "      <td>0.356643</td>\n",
       "    </tr>\n",
       "    <tr>\n",
       "      <th>min</th>\n",
       "      <td>1.000000</td>\n",
       "      <td>0.000000</td>\n",
       "      <td>0.000000</td>\n",
       "      <td>0.000000</td>\n",
       "      <td>1.000000</td>\n",
       "      <td>0.000000</td>\n",
       "      <td>0.000000</td>\n",
       "      <td>0.000000</td>\n",
       "      <td>4.670000</td>\n",
       "      <td>0.000000</td>\n",
       "    </tr>\n",
       "    <tr>\n",
       "      <th>25%</th>\n",
       "      <td>1.000000</td>\n",
       "      <td>21.000000</td>\n",
       "      <td>5.000000</td>\n",
       "      <td>5.000000</td>\n",
       "      <td>2.000000</td>\n",
       "      <td>0.000000</td>\n",
       "      <td>0.000000</td>\n",
       "      <td>0.000000</td>\n",
       "      <td>5.620000</td>\n",
       "      <td>0.000000</td>\n",
       "    </tr>\n",
       "    <tr>\n",
       "      <th>50%</th>\n",
       "      <td>1.000000</td>\n",
       "      <td>51.000000</td>\n",
       "      <td>17.000000</td>\n",
       "      <td>9.000000</td>\n",
       "      <td>4.000000</td>\n",
       "      <td>1.000000</td>\n",
       "      <td>0.000000</td>\n",
       "      <td>0.000000</td>\n",
       "      <td>7.570000</td>\n",
       "      <td>0.000000</td>\n",
       "    </tr>\n",
       "    <tr>\n",
       "      <th>75%</th>\n",
       "      <td>2.000000</td>\n",
       "      <td>115.000000</td>\n",
       "      <td>28.000000</td>\n",
       "      <td>13.000000</td>\n",
       "      <td>5.000000</td>\n",
       "      <td>1.000000</td>\n",
       "      <td>1.000000</td>\n",
       "      <td>1.000000</td>\n",
       "      <td>8.830000</td>\n",
       "      <td>0.000000</td>\n",
       "    </tr>\n",
       "    <tr>\n",
       "      <th>max</th>\n",
       "      <td>9.000000</td>\n",
       "      <td>867.000000</td>\n",
       "      <td>778.000000</td>\n",
       "      <td>23.000000</td>\n",
       "      <td>7.000000</td>\n",
       "      <td>1.000000</td>\n",
       "      <td>1.000000</td>\n",
       "      <td>1.000000</td>\n",
       "      <td>9.500000</td>\n",
       "      <td>1.000000</td>\n",
       "    </tr>\n",
       "  </tbody>\n",
       "</table>\n",
       "</div>"
      ],
      "text/plain": [
       "       num_passengers  purchase_lead  length_of_stay  flight_hour  \\\n",
       "count    50000.000000   50000.000000    50000.000000 50000.000000   \n",
       "mean         1.591240      84.940480       23.044560     9.066340   \n",
       "std          1.020165      90.451378       33.887670     5.412660   \n",
       "min          1.000000       0.000000        0.000000     0.000000   \n",
       "25%          1.000000      21.000000        5.000000     5.000000   \n",
       "50%          1.000000      51.000000       17.000000     9.000000   \n",
       "75%          2.000000     115.000000       28.000000    13.000000   \n",
       "max          9.000000     867.000000      778.000000    23.000000   \n",
       "\n",
       "        flight_day  wants_extra_baggage  wants_preferred_seat  \\\n",
       "count 50000.000000         50000.000000          50000.000000   \n",
       "mean      3.814420             0.668780              0.296960   \n",
       "std       1.992792             0.470657              0.456923   \n",
       "min       1.000000             0.000000              0.000000   \n",
       "25%       2.000000             0.000000              0.000000   \n",
       "50%       4.000000             1.000000              0.000000   \n",
       "75%       5.000000             1.000000              1.000000   \n",
       "max       7.000000             1.000000              1.000000   \n",
       "\n",
       "       wants_in_flight_meals  flight_duration  booking_complete  \n",
       "count           50000.000000     50000.000000      50000.000000  \n",
       "mean                0.427140         7.277561          0.149560  \n",
       "std                 0.494668         1.496863          0.356643  \n",
       "min                 0.000000         4.670000          0.000000  \n",
       "25%                 0.000000         5.620000          0.000000  \n",
       "50%                 0.000000         7.570000          0.000000  \n",
       "75%                 1.000000         8.830000          0.000000  \n",
       "max                 1.000000         9.500000          1.000000  "
      ]
     },
     "execution_count": 7,
     "metadata": {},
     "output_type": "execute_result"
    }
   ],
   "source": [
    "df.describe()"
   ]
  },
  {
   "cell_type": "code",
   "execution_count": 8,
   "id": "78e58a8c",
   "metadata": {},
   "outputs": [
    {
     "data": {
      "text/plain": [
       "(50000, 14)"
      ]
     },
     "execution_count": 8,
     "metadata": {},
     "output_type": "execute_result"
    }
   ],
   "source": [
    "df.shape"
   ]
  },
  {
   "cell_type": "code",
   "execution_count": 9,
   "id": "bf30f3e6",
   "metadata": {},
   "outputs": [
    {
     "data": {
      "text/plain": [
       "num_passengers           0\n",
       "sales_channel            0\n",
       "trip_type                0\n",
       "purchase_lead            0\n",
       "length_of_stay           0\n",
       "flight_hour              0\n",
       "flight_day               0\n",
       "route                    0\n",
       "booking_origin           0\n",
       "wants_extra_baggage      0\n",
       "wants_preferred_seat     0\n",
       "wants_in_flight_meals    0\n",
       "flight_duration          0\n",
       "booking_complete         0\n",
       "dtype: int64"
      ]
     },
     "execution_count": 9,
     "metadata": {},
     "output_type": "execute_result"
    }
   ],
   "source": [
    "# Checking the null values\n",
    "\n",
    "df.isnull().sum()\n",
    "\n",
    "#there is no null values"
   ]
  },
  {
   "cell_type": "code",
   "execution_count": 10,
   "id": "7c815562",
   "metadata": {},
   "outputs": [
    {
     "data": {
      "text/plain": [
       "0    42522\n",
       "1     7478\n",
       "Name: booking_complete, dtype: int64"
      ]
     },
     "execution_count": 10,
     "metadata": {},
     "output_type": "execute_result"
    }
   ],
   "source": [
    "df.booking_complete.value_counts()"
   ]
  },
  {
   "cell_type": "markdown",
   "id": "890e6292",
   "metadata": {},
   "source": [
    "# Mutual Information\n",
    "\n",
    "Mutual information (MI) is a measure of how much information two random variables share. It is a non-negative value, and it can be used to measure the dependency between two variables.\n",
    "\n",
    "The mutual_info_classif() function in Python's scikit-learn library calculates the mutual information between a set of features and a target variable. This can be used to select features that are most informative for the target variable.\n",
    "\n",
    "The higher the value, the more informative the feature is for the target variable.Mutual information is a useful tool for feature selection. It can be used to select features that are most informative for the target variable. This can help to improve the performance of machine learning models."
   ]
  },
  {
   "cell_type": "code",
   "execution_count": 11,
   "id": "c5192f8b",
   "metadata": {},
   "outputs": [],
   "source": [
    "X= df.drop('booking_complete',axis=1)\n",
    "y= df.booking_complete         \n",
    "\n",
    "#changing object dtype to int dtype\n",
    "for colname in X.select_dtypes(\"object\"):\n",
    "    X[colname], _ = X[colname].factorize()"
   ]
  },
  {
   "cell_type": "code",
   "execution_count": 12,
   "id": "8c679ecd",
   "metadata": {},
   "outputs": [
    {
     "data": {
      "text/plain": [
       "num_passengers             int64\n",
       "sales_channel              int64\n",
       "trip_type                  int64\n",
       "purchase_lead              int64\n",
       "length_of_stay             int64\n",
       "flight_hour                int64\n",
       "flight_day                 int64\n",
       "route                      int64\n",
       "booking_origin             int64\n",
       "wants_extra_baggage        int64\n",
       "wants_preferred_seat       int64\n",
       "wants_in_flight_meals      int64\n",
       "flight_duration          float64\n",
       "dtype: object"
      ]
     },
     "execution_count": 12,
     "metadata": {},
     "output_type": "execute_result"
    }
   ],
   "source": [
    "X.dtypes"
   ]
  },
  {
   "cell_type": "code",
   "execution_count": 13,
   "id": "9ba1a4d8",
   "metadata": {},
   "outputs": [
    {
     "data": {
      "text/plain": [
       "route                   0.051335\n",
       "booking_origin          0.050727\n",
       "flight_duration         0.018702\n",
       "length_of_stay          0.008409\n",
       "wants_extra_baggage     0.006085\n",
       "trip_type               0.004687\n",
       "wants_preferred_seat    0.003493\n",
       "wants_in_flight_meals   0.003114\n",
       "num_passengers          0.002934\n",
       "flight_hour             0.001876\n",
       "flight_day              0.001716\n",
       "purchase_lead           0.001580\n",
       "sales_channel           0.001389\n",
       "Name: MI Scores, dtype: float64"
      ]
     },
     "execution_count": 13,
     "metadata": {},
     "output_type": "execute_result"
    }
   ],
   "source": [
    "from sklearn.feature_selection import mutual_info_classif\n",
    "\n",
    "mi_scores = mutual_info_classif(X, y)\n",
    "mi_scores = pd.Series(mi_scores, name=\"MI Scores\", index=X.columns)\n",
    "mi_scores = mi_scores.sort_values(ascending=False)\n",
    "\n",
    "mi_scores # show a few features with their MI scores"
   ]
  },
  {
   "cell_type": "markdown",
   "id": "28ed9c23",
   "metadata": {},
   "source": [
    "*Infrence*\n",
    "\n",
    "The features with the highest MI scores are route, booking_origin, and flight_duration. This suggests that these features are the most informative for the target variable.\n",
    "\n",
    "The features with the lowest MI scores are trip_type, sales_channel, and purchase_lead. This suggests that these features are the least informative for the target variable.\n",
    "\n",
    "The features with MI scores of 0 are flight_day and flight_hour. This suggests that these features are not informative for the target variable at all.\n",
    "\n",
    "Overall, the results suggest that the features route, booking_origin, and flight_duration are the most informative for the target variable. These features should be considered for inclusion in a machine learning model that predicts the target variable."
   ]
  },
  {
   "cell_type": "code",
   "execution_count": 14,
   "id": "3ea6868b",
   "metadata": {},
   "outputs": [
    {
     "data": {
      "image/png": "[encoded data removed]",
      "text/plain": [
       "<Figure size 800x500 with 1 Axes>"
      ]
     },
     "metadata": {
      "needs_background": "light"
     },
     "output_type": "display_data"
    }
   ],
   "source": [
    "def plot_mi_scores(scores):\n",
    "    scores = scores.sort_values(ascending=True)\n",
    "    width = np.arange(len(scores))\n",
    "    ticks = list(scores.index)\n",
    "    plt.barh(width, scores)\n",
    "    plt.yticks(width, ticks)\n",
    "    plt.title(\"Mutual Information Scores\")\n",
    "\n",
    "\n",
    "plt.figure(dpi=100, figsize=(8, 5))\n",
    "plot_mi_scores(mi_scores)"
   ]
  },
  {
   "cell_type": "markdown",
   "id": "94fa3caf",
   "metadata": {},
   "source": [
    "We can see\n",
    "\n",
    "route\n",
    "\n",
    "booking_origin\n",
    "\n",
    "flight_duration\n",
    "\n",
    "wants_extra_baggage\n",
    "\n",
    "length_of_stay\n",
    "\n",
    "are the top 5 features which are dependant with booking_complete feature"
   ]
  },
  {
   "cell_type": "markdown",
   "id": "43f5c190",
   "metadata": {},
   "source": [
    "# Split the dependent and independent variables"
   ]
  },
  {
   "cell_type": "code",
   "execution_count": 15,
   "id": "8ed95df4",
   "metadata": {},
   "outputs": [],
   "source": [
    "# store the target variable 'booking_complete' in a dataframe 'df_target'\n",
    "df_target = df['booking_complete']\n",
    "\n",
    "# store all the independent variables in a dataframe 'df_feature' \n",
    "# drop the column 'booking_complete' using drop()\n",
    "# 'axis = 1' drops the specified column\n",
    "df_features = df.drop('booking_complete', axis = 1)"
   ]
  },
  {
   "cell_type": "code",
   "execution_count": 16,
   "id": "c97c8c7a",
   "metadata": {},
   "outputs": [
    {
     "data": {
      "text/plain": [
       "0    42522\n",
       "1     7478\n",
       "Name: booking_complete, dtype: int64"
      ]
     },
     "execution_count": 16,
     "metadata": {},
     "output_type": "execute_result"
    }
   ],
   "source": [
    "df_target.value_counts()"
   ]
  },
  {
   "cell_type": "markdown",
   "id": "a5dcf5e3",
   "metadata": {},
   "source": [
    "## Distribution of dependent variable"
   ]
  },
  {
   "cell_type": "code",
   "execution_count": 17,
   "id": "1f69c3ae",
   "metadata": {},
   "outputs": [
    {
     "data": {
      "image/png": "[encoded data removed]",
      "text/plain": [
       "<Figure size 1080x576 with 1 Axes>"
      ]
     },
     "metadata": {
      "needs_background": "light"
     },
     "output_type": "display_data"
    }
   ],
   "source": [
    "# get counts of 0's and 1's in the 'booking_complete' variable\n",
    "df_target.value_counts()\n",
    "\n",
    "# plot the countplot of the variable 'booking_complete'\n",
    "sns.countplot(x = df_target)\n",
    "\n",
    "# use below code to print the values in the graph\n",
    "# 'x' and 'y' gives position of the text\n",
    "# 's' is the text \n",
    "plt.text(x = -0.05, y = df_target.value_counts()[0] + 1, s = str(round((df_target.value_counts()[0])*100/len(df_target),2)) + '%')\n",
    "plt.text(x = 0.95, y = df_target.value_counts()[1] +1, s = str(round((df_target.value_counts()[1])*100/len(df_target),2)) + '%')\n",
    "\n",
    "# add plot and axes labels\n",
    "# set text size using 'fontsize'\n",
    "plt.title('Count Plot for Target Variable ', fontsize = 15)\n",
    "plt.xlabel('Target Variable', fontsize = 15)\n",
    "plt.ylabel('Count', fontsize = 15)\n",
    "\n",
    "# to show the plot\n",
    "plt.show()"
   ]
  },
  {
   "cell_type": "markdown",
   "id": "1c251658",
   "metadata": {},
   "source": [
    "## Filter numerical and categorical variables."
   ]
  },
  {
   "cell_type": "code",
   "execution_count": 18,
   "id": "db40a097",
   "metadata": {},
   "outputs": [
    {
     "data": {
      "text/plain": [
       "Index(['num_passengers', 'purchase_lead', 'length_of_stay', 'flight_hour',\n",
       "       'flight_day', 'wants_extra_baggage', 'wants_preferred_seat',\n",
       "       'wants_in_flight_meals', 'flight_duration'],\n",
       "      dtype='object')"
      ]
     },
     "execution_count": 18,
     "metadata": {},
     "output_type": "execute_result"
    }
   ],
   "source": [
    "# filter the numerical features in the dataset\n",
    "# 'select_dtypes' is used to select the variables with given data type\n",
    "# 'include = [np.number]' will include all the numerical variables\n",
    "num_f = df_features.select_dtypes(include=[np.number])\n",
    "\n",
    "# display numerical features\n",
    "num_f.columns"
   ]
  },
  {
   "cell_type": "code",
   "execution_count": 19,
   "id": "4e54a134",
   "metadata": {},
   "outputs": [
    {
     "data": {
      "text/plain": [
       "Index(['sales_channel', 'trip_type', 'route', 'booking_origin'], dtype='object')"
      ]
     },
     "execution_count": 19,
     "metadata": {},
     "output_type": "execute_result"
    }
   ],
   "source": [
    "# filter the categorical features in the dataset\n",
    "# 'select_dtypes' is used to select the variables with given data type\n",
    "# 'include = [np.object]' will include all the categorical variables\n",
    "cat_f = df_features.select_dtypes(exclude=[np.number])\n",
    "\n",
    "# display categorical features\n",
    "cat_f.columns"
   ]
  },
  {
   "cell_type": "markdown",
   "id": "cb8b7e65",
   "metadata": {},
   "source": [
    "## Encoding the Categorical Variables"
   ]
  },
  {
   "cell_type": "code",
   "execution_count": 20,
   "id": "62b2a051",
   "metadata": {},
   "outputs": [
    {
     "data": {
      "text/plain": [
       "Index(['sales_channel', 'trip_type', 'route', 'booking_origin'], dtype='object')"
      ]
     },
     "execution_count": 20,
     "metadata": {},
     "output_type": "execute_result"
    }
   ],
   "source": [
    "cat=df_features.select_dtypes(include='object').columns\n",
    "cat"
   ]
  },
  {
   "cell_type": "code",
   "execution_count": 21,
   "id": "cd3ee8a9",
   "metadata": {},
   "outputs": [],
   "source": [
    "from sklearn.preprocessing import OrdinalEncoder\n",
    "enc = OrdinalEncoder()\n",
    "cat_f[cat]=enc.fit_transform(cat_f[cat])"
   ]
  },
  {
   "cell_type": "code",
   "execution_count": 22,
   "id": "dec69d80",
   "metadata": {},
   "outputs": [
    {
     "data": {
      "text/html": [
       "<div>\n",
       "<style scoped>\n",
       "    .dataframe tbody tr th:only-of-type {\n",
       "        vertical-align: middle;\n",
       "    }\n",
       "\n",
       "    .dataframe tbody tr th {\n",
       "        vertical-align: top;\n",
       "    }\n",
       "\n",
       "    .dataframe thead th {\n",
       "        text-align: right;\n",
       "    }\n",
       "</style>\n",
       "<table border=\"1\" class=\"dataframe\">\n",
       "  <thead>\n",
       "    <tr style=\"text-align: right;\">\n",
       "      <th></th>\n",
       "      <th>sales_channel</th>\n",
       "      <th>trip_type</th>\n",
       "      <th>route</th>\n",
       "      <th>booking_origin</th>\n",
       "    </tr>\n",
       "  </thead>\n",
       "  <tbody>\n",
       "    <tr>\n",
       "      <th>0</th>\n",
       "      <td>0.000000</td>\n",
       "      <td>2.000000</td>\n",
       "      <td>0.000000</td>\n",
       "      <td>61.000000</td>\n",
       "    </tr>\n",
       "    <tr>\n",
       "      <th>1</th>\n",
       "      <td>0.000000</td>\n",
       "      <td>2.000000</td>\n",
       "      <td>0.000000</td>\n",
       "      <td>61.000000</td>\n",
       "    </tr>\n",
       "    <tr>\n",
       "      <th>2</th>\n",
       "      <td>0.000000</td>\n",
       "      <td>2.000000</td>\n",
       "      <td>0.000000</td>\n",
       "      <td>36.000000</td>\n",
       "    </tr>\n",
       "    <tr>\n",
       "      <th>3</th>\n",
       "      <td>0.000000</td>\n",
       "      <td>2.000000</td>\n",
       "      <td>0.000000</td>\n",
       "      <td>61.000000</td>\n",
       "    </tr>\n",
       "    <tr>\n",
       "      <th>4</th>\n",
       "      <td>0.000000</td>\n",
       "      <td>2.000000</td>\n",
       "      <td>0.000000</td>\n",
       "      <td>36.000000</td>\n",
       "    </tr>\n",
       "  </tbody>\n",
       "</table>\n",
       "</div>"
      ],
      "text/plain": [
       "   sales_channel  trip_type    route  booking_origin\n",
       "0       0.000000   2.000000 0.000000       61.000000\n",
       "1       0.000000   2.000000 0.000000       61.000000\n",
       "2       0.000000   2.000000 0.000000       36.000000\n",
       "3       0.000000   2.000000 0.000000       61.000000\n",
       "4       0.000000   2.000000 0.000000       36.000000"
      ]
     },
     "execution_count": 22,
     "metadata": {},
     "output_type": "execute_result"
    }
   ],
   "source": [
    "cat_f.head()"
   ]
  },
  {
   "cell_type": "code",
   "execution_count": 23,
   "id": "ba458ac8",
   "metadata": {},
   "outputs": [
    {
     "data": {
      "text/plain": [
       "(50000, 4)"
      ]
     },
     "execution_count": 23,
     "metadata": {},
     "output_type": "execute_result"
    }
   ],
   "source": [
    "cat_f.shape"
   ]
  },
  {
   "cell_type": "markdown",
   "id": "dfcab9fa",
   "metadata": {},
   "source": [
    "### Skewness Before Transformation"
   ]
  },
  {
   "cell_type": "code",
   "execution_count": 24,
   "id": "594b8f56",
   "metadata": {},
   "outputs": [
    {
     "data": {
      "image/png": "[encoded data removed]",
      "text/plain": [
       "<Figure size 3000x5000 with 10 Axes>"
      ]
     },
     "metadata": {
      "needs_background": "light"
     },
     "output_type": "display_data"
    }
   ],
   "source": [
    "#checking and visualizing skewness of each feature by using dist plot\n",
    "#checking skewness and normallity of data by visualizing graphs\n",
    "plt.figure(figsize=(30,50),dpi=100)\n",
    "n=1\n",
    "for i in df.describe().columns:\n",
    "    plt.subplot(18,2,n)\n",
    "    n+=1\n",
    "    if df[i].skew() < 0 :\n",
    "        sns.histplot(df[i] ,color='red',kde=True)\n",
    "        plt.xlabel(f\"{i}\\nSkewness: {round(df[i].skew(),4)}\\nKurtois: {round(df[i].kurt(),4)}\",fontsize=15)\n",
    "    else:\n",
    "        sns.histplot(df[i],color='teal',kde=True)\n",
    "        plt.xlabel(f\"{i}\\nSkewness: {round(df[i].skew(),4)}\\nKurtois: {round(df[i].kurt(),4)}\",fontsize=15)\n",
    "plt.tight_layout()"
   ]
  },
  {
   "cell_type": "markdown",
   "id": "3a8342ea",
   "metadata": {},
   "source": [
    "## POWER TRANSFORMATION"
   ]
  },
  {
   "cell_type": "markdown",
   "id": "1cce5252",
   "metadata": {},
   "source": [
    "As our data has both positive and negative values, we have used `yeo-johnson` power Transformation as it works for both."
   ]
  },
  {
   "cell_type": "code",
   "execution_count": 25,
   "id": "3bbaee49",
   "metadata": {},
   "outputs": [],
   "source": [
    "from sklearn.preprocessing import PowerTransformer\n",
    "PT=PowerTransformer()\n",
    "for i in num_f.columns:\n",
    "    num_f[i]=PT.fit_transform(num_f[[i]])"
   ]
  },
  {
   "cell_type": "code",
   "execution_count": 26,
   "id": "442386f3",
   "metadata": {},
   "outputs": [
    {
     "data": {
      "text/html": [
       "<div>\n",
       "<style scoped>\n",
       "    .dataframe tbody tr th:only-of-type {\n",
       "        vertical-align: middle;\n",
       "    }\n",
       "\n",
       "    .dataframe tbody tr th {\n",
       "        vertical-align: top;\n",
       "    }\n",
       "\n",
       "    .dataframe thead th {\n",
       "        text-align: right;\n",
       "    }\n",
       "</style>\n",
       "<table border=\"1\" class=\"dataframe\">\n",
       "  <thead>\n",
       "    <tr style=\"text-align: right;\">\n",
       "      <th></th>\n",
       "      <th>num_passengers</th>\n",
       "      <th>purchase_lead</th>\n",
       "      <th>length_of_stay</th>\n",
       "      <th>flight_hour</th>\n",
       "      <th>flight_day</th>\n",
       "      <th>wants_extra_baggage</th>\n",
       "      <th>wants_preferred_seat</th>\n",
       "      <th>wants_in_flight_meals</th>\n",
       "      <th>flight_duration</th>\n",
       "    </tr>\n",
       "  </thead>\n",
       "  <tbody>\n",
       "    <tr>\n",
       "      <th>0</th>\n",
       "      <td>1.115157</td>\n",
       "      <td>1.568426</td>\n",
       "      <td>0.485166</td>\n",
       "      <td>-0.269492</td>\n",
       "      <td>1.073915</td>\n",
       "      <td>0.703747</td>\n",
       "      <td>-0.649919</td>\n",
       "      <td>-0.863497</td>\n",
       "      <td>-1.175152</td>\n",
       "    </tr>\n",
       "    <tr>\n",
       "      <th>1</th>\n",
       "      <td>-0.762055</td>\n",
       "      <td>0.685122</td>\n",
       "      <td>0.530398</td>\n",
       "      <td>-1.145147</td>\n",
       "      <td>1.073915</td>\n",
       "      <td>-1.420965</td>\n",
       "      <td>-0.649919</td>\n",
       "      <td>-0.863497</td>\n",
       "      <td>-1.175152</td>\n",
       "    </tr>\n",
       "    <tr>\n",
       "      <th>2</th>\n",
       "      <td>1.115157</td>\n",
       "      <td>1.484711</td>\n",
       "      <td>0.613264</td>\n",
       "      <td>1.360653</td>\n",
       "      <td>-0.315712</td>\n",
       "      <td>0.703747</td>\n",
       "      <td>1.538654</td>\n",
       "      <td>-0.863497</td>\n",
       "      <td>-1.175152</td>\n",
       "    </tr>\n",
       "    <tr>\n",
       "      <th>3</th>\n",
       "      <td>-0.762055</td>\n",
       "      <td>0.538764</td>\n",
       "      <td>0.898589</td>\n",
       "      <td>-0.902767</td>\n",
       "      <td>1.073915</td>\n",
       "      <td>-1.420965</td>\n",
       "      <td>-0.649919</td>\n",
       "      <td>1.158082</td>\n",
       "      <td>-1.175152</td>\n",
       "    </tr>\n",
       "    <tr>\n",
       "      <th>4</th>\n",
       "      <td>1.115157</td>\n",
       "      <td>0.225820</td>\n",
       "      <td>0.613264</td>\n",
       "      <td>1.070680</td>\n",
       "      <td>-0.315712</td>\n",
       "      <td>0.703747</td>\n",
       "      <td>-0.649919</td>\n",
       "      <td>1.158082</td>\n",
       "      <td>-1.175152</td>\n",
       "    </tr>\n",
       "  </tbody>\n",
       "</table>\n",
       "</div>"
      ],
      "text/plain": [
       "   num_passengers  purchase_lead  length_of_stay  flight_hour  flight_day  \\\n",
       "0        1.115157       1.568426        0.485166    -0.269492    1.073915   \n",
       "1       -0.762055       0.685122        0.530398    -1.145147    1.073915   \n",
       "2        1.115157       1.484711        0.613264     1.360653   -0.315712   \n",
       "3       -0.762055       0.538764        0.898589    -0.902767    1.073915   \n",
       "4        1.115157       0.225820        0.613264     1.070680   -0.315712   \n",
       "\n",
       "   wants_extra_baggage  wants_preferred_seat  wants_in_flight_meals  \\\n",
       "0             0.703747             -0.649919              -0.863497   \n",
       "1            -1.420965             -0.649919              -0.863497   \n",
       "2             0.703747              1.538654              -0.863497   \n",
       "3            -1.420965             -0.649919               1.158082   \n",
       "4             0.703747             -0.649919               1.158082   \n",
       "\n",
       "   flight_duration  \n",
       "0        -1.175152  \n",
       "1        -1.175152  \n",
       "2        -1.175152  \n",
       "3        -1.175152  \n",
       "4        -1.175152  "
      ]
     },
     "execution_count": 26,
     "metadata": {},
     "output_type": "execute_result"
    }
   ],
   "source": [
    "num_f.head()"
   ]
  },
  {
   "cell_type": "code",
   "execution_count": 27,
   "id": "43628005",
   "metadata": {},
   "outputs": [
    {
     "data": {
      "text/plain": [
       "(50000, 9)"
      ]
     },
     "execution_count": 27,
     "metadata": {},
     "output_type": "execute_result"
    }
   ],
   "source": [
    "num_f.shape"
   ]
  },
  {
   "cell_type": "markdown",
   "id": "7bf79262",
   "metadata": {},
   "source": [
    "#### Concatenate scaled numerical and dummy encoded categorical variables"
   ]
  },
  {
   "cell_type": "code",
   "execution_count": 28,
   "id": "6ca849e3",
   "metadata": {},
   "outputs": [
    {
     "data": {
      "text/plain": [
       "(50000, 13)"
      ]
     },
     "execution_count": 28,
     "metadata": {},
     "output_type": "execute_result"
    }
   ],
   "source": [
    "df_features = pd.concat([cat_f,num_f], axis =1)\n",
    "df_features.shape"
   ]
  },
  {
   "cell_type": "code",
   "execution_count": 29,
   "id": "ed73edb6",
   "metadata": {},
   "outputs": [
    {
     "data": {
      "text/html": [
       "<div>\n",
       "<style scoped>\n",
       "    .dataframe tbody tr th:only-of-type {\n",
       "        vertical-align: middle;\n",
       "    }\n",
       "\n",
       "    .dataframe tbody tr th {\n",
       "        vertical-align: top;\n",
       "    }\n",
       "\n",
       "    .dataframe thead th {\n",
       "        text-align: right;\n",
       "    }\n",
       "</style>\n",
       "<table border=\"1\" class=\"dataframe\">\n",
       "  <thead>\n",
       "    <tr style=\"text-align: right;\">\n",
       "      <th></th>\n",
       "      <th>sales_channel</th>\n",
       "      <th>trip_type</th>\n",
       "      <th>route</th>\n",
       "      <th>booking_origin</th>\n",
       "      <th>num_passengers</th>\n",
       "      <th>purchase_lead</th>\n",
       "      <th>length_of_stay</th>\n",
       "      <th>flight_hour</th>\n",
       "      <th>flight_day</th>\n",
       "      <th>wants_extra_baggage</th>\n",
       "      <th>wants_preferred_seat</th>\n",
       "      <th>wants_in_flight_meals</th>\n",
       "      <th>flight_duration</th>\n",
       "    </tr>\n",
       "  </thead>\n",
       "  <tbody>\n",
       "    <tr>\n",
       "      <th>0</th>\n",
       "      <td>0.000000</td>\n",
       "      <td>2.000000</td>\n",
       "      <td>0.000000</td>\n",
       "      <td>61.000000</td>\n",
       "      <td>1.115157</td>\n",
       "      <td>1.568426</td>\n",
       "      <td>0.485166</td>\n",
       "      <td>-0.269492</td>\n",
       "      <td>1.073915</td>\n",
       "      <td>0.703747</td>\n",
       "      <td>-0.649919</td>\n",
       "      <td>-0.863497</td>\n",
       "      <td>-1.175152</td>\n",
       "    </tr>\n",
       "    <tr>\n",
       "      <th>1</th>\n",
       "      <td>0.000000</td>\n",
       "      <td>2.000000</td>\n",
       "      <td>0.000000</td>\n",
       "      <td>61.000000</td>\n",
       "      <td>-0.762055</td>\n",
       "      <td>0.685122</td>\n",
       "      <td>0.530398</td>\n",
       "      <td>-1.145147</td>\n",
       "      <td>1.073915</td>\n",
       "      <td>-1.420965</td>\n",
       "      <td>-0.649919</td>\n",
       "      <td>-0.863497</td>\n",
       "      <td>-1.175152</td>\n",
       "    </tr>\n",
       "    <tr>\n",
       "      <th>2</th>\n",
       "      <td>0.000000</td>\n",
       "      <td>2.000000</td>\n",
       "      <td>0.000000</td>\n",
       "      <td>36.000000</td>\n",
       "      <td>1.115157</td>\n",
       "      <td>1.484711</td>\n",
       "      <td>0.613264</td>\n",
       "      <td>1.360653</td>\n",
       "      <td>-0.315712</td>\n",
       "      <td>0.703747</td>\n",
       "      <td>1.538654</td>\n",
       "      <td>-0.863497</td>\n",
       "      <td>-1.175152</td>\n",
       "    </tr>\n",
       "    <tr>\n",
       "      <th>3</th>\n",
       "      <td>0.000000</td>\n",
       "      <td>2.000000</td>\n",
       "      <td>0.000000</td>\n",
       "      <td>61.000000</td>\n",
       "      <td>-0.762055</td>\n",
       "      <td>0.538764</td>\n",
       "      <td>0.898589</td>\n",
       "      <td>-0.902767</td>\n",
       "      <td>1.073915</td>\n",
       "      <td>-1.420965</td>\n",
       "      <td>-0.649919</td>\n",
       "      <td>1.158082</td>\n",
       "      <td>-1.175152</td>\n",
       "    </tr>\n",
       "    <tr>\n",
       "      <th>4</th>\n",
       "      <td>0.000000</td>\n",
       "      <td>2.000000</td>\n",
       "      <td>0.000000</td>\n",
       "      <td>36.000000</td>\n",
       "      <td>1.115157</td>\n",
       "      <td>0.225820</td>\n",
       "      <td>0.613264</td>\n",
       "      <td>1.070680</td>\n",
       "      <td>-0.315712</td>\n",
       "      <td>0.703747</td>\n",
       "      <td>-0.649919</td>\n",
       "      <td>1.158082</td>\n",
       "      <td>-1.175152</td>\n",
       "    </tr>\n",
       "  </tbody>\n",
       "</table>\n",
       "</div>"
      ],
      "text/plain": [
       "   sales_channel  trip_type    route  booking_origin  num_passengers  \\\n",
       "0       0.000000   2.000000 0.000000       61.000000        1.115157   \n",
       "1       0.000000   2.000000 0.000000       61.000000       -0.762055   \n",
       "2       0.000000   2.000000 0.000000       36.000000        1.115157   \n",
       "3       0.000000   2.000000 0.000000       61.000000       -0.762055   \n",
       "4       0.000000   2.000000 0.000000       36.000000        1.115157   \n",
       "\n",
       "   purchase_lead  length_of_stay  flight_hour  flight_day  \\\n",
       "0       1.568426        0.485166    -0.269492    1.073915   \n",
       "1       0.685122        0.530398    -1.145147    1.073915   \n",
       "2       1.484711        0.613264     1.360653   -0.315712   \n",
       "3       0.538764        0.898589    -0.902767    1.073915   \n",
       "4       0.225820        0.613264     1.070680   -0.315712   \n",
       "\n",
       "   wants_extra_baggage  wants_preferred_seat  wants_in_flight_meals  \\\n",
       "0             0.703747             -0.649919              -0.863497   \n",
       "1            -1.420965             -0.649919              -0.863497   \n",
       "2             0.703747              1.538654              -0.863497   \n",
       "3            -1.420965             -0.649919               1.158082   \n",
       "4             0.703747             -0.649919               1.158082   \n",
       "\n",
       "   flight_duration  \n",
       "0        -1.175152  \n",
       "1        -1.175152  \n",
       "2        -1.175152  \n",
       "3        -1.175152  \n",
       "4        -1.175152  "
      ]
     },
     "execution_count": 29,
     "metadata": {},
     "output_type": "execute_result"
    }
   ],
   "source": [
    "df_features.head()"
   ]
  },
  {
   "cell_type": "markdown",
   "id": "360ff337",
   "metadata": {},
   "source": [
    "# TRAIN TEST SPLIT"
   ]
  },
  {
   "cell_type": "code",
   "execution_count": 30,
   "id": "13b623fc",
   "metadata": {},
   "outputs": [
    {
     "name": "stdout",
     "output_type": "stream",
     "text": [
      "x_train:  (35000, 13)\n",
      "y_train:  (35000,)\n",
      "x_test:  (15000, 13)\n",
      "y_test:  (15000,)\n"
     ]
    }
   ],
   "source": [
    "#test train split\n",
    "\n",
    "from sklearn.model_selection import train_test_split\n",
    "\n",
    "# split data into train subset and test subset\n",
    "# set 'random_state' to generate the same dataset each time you run the code \n",
    "# 'test_size' returns the proportion of data to be included in the testing set\n",
    "x_train, x_test ,y_train ,y_test = train_test_split(df_features,df_target, random_state=10, test_size=0.3)\n",
    "\n",
    "# check the dimensions of the train & test subset using 'shape'\n",
    "# print dimension of train set\n",
    "print('x_train: ',x_train.shape)\n",
    "print('y_train: ',y_train.shape)\n",
    "\n",
    "# print dimension of test set\n",
    "print('x_test: ',x_test.shape)\n",
    "print('y_test: ',y_test.shape)"
   ]
  },
  {
   "cell_type": "markdown",
   "id": "354e136f",
   "metadata": {},
   "source": [
    "#### Create a generalized function to create a dataframe containing the scores for the models."
   ]
  },
  {
   "cell_type": "code",
   "execution_count": 31,
   "id": "6bee842d",
   "metadata": {},
   "outputs": [],
   "source": [
    "# create an empty dataframe to store the scores for various algorithms\n",
    "score_card = pd.DataFrame(columns=['Probability Cutoff', 'AUC Score', 'Precision Score', 'Recall Score',\n",
    "                                       'Accuracy Score', 'Kappa Score', 'f1-score'])\n",
    "\n",
    "# append the result table for all performance scores\n",
    "# performance measures considered for model comparision are 'AUC Score', 'Precision Score', 'Recall Score','Accuracy Score',\n",
    "# 'Kappa Score', and 'f1-score'\n",
    "# compile the required information in a user defined function \n",
    "def update_score_card(model, cutoff):\n",
    "    \n",
    "    # let 'y_pred_prob' be the predicted values of y\n",
    "    y_pred_prob = logreg.predict(x_test)\n",
    "\n",
    "    # convert probabilities to 0 and 1 using 'if_else'\n",
    "    y_pred = [ 0 if x < cutoff else 1 for x in y_pred_prob]\n",
    "    \n",
    "    # assign 'score_card' as global variable\n",
    "    global score_card\n",
    "\n",
    "    # append the results to the dataframe 'score_card'\n",
    "    # 'ignore_index = True' do not consider the index labels\n",
    "    score_card = score_card.append({'Probability Cutoff': cutoff,\n",
    "                                    'AUC Score' : metrics.roc_auc_score(y_test, y_pred_prob),\n",
    "                                    'Precision Score': metrics.precision_score(y_test, y_pred),\n",
    "                                    'Recall Score': metrics.recall_score(y_test, y_pred),\n",
    "                                    'Accuracy Score': metrics.accuracy_score(y_test, y_pred),\n",
    "                                    'Kappa Score':metrics.cohen_kappa_score(y_test, y_pred),\n",
    "                                    'f1-score': metrics.f1_score(y_test, y_pred)}, \n",
    "                                    ignore_index = True)"
   ]
  },
  {
   "cell_type": "markdown",
   "id": "1fcbbcc5",
   "metadata": {},
   "source": [
    "## Model 1: Logistic Regression "
   ]
  },
  {
   "cell_type": "markdown",
   "id": "557f8133",
   "metadata": {},
   "source": [
    "#### Build a full logistic model on a training dataset"
   ]
  },
  {
   "cell_type": "code",
   "execution_count": 32,
   "id": "c5bf8bde",
   "metadata": {},
   "outputs": [
    {
     "name": "stdout",
     "output_type": "stream",
     "text": [
      "Optimization terminated successfully.\n",
      "         Current function value: 0.402482\n",
      "         Iterations 6\n",
      "                           Logit Regression Results                           \n",
      "==============================================================================\n",
      "Dep. Variable:       booking_complete   No. Observations:                35000\n",
      "Model:                          Logit   Df Residuals:                    34987\n",
      "Method:                           MLE   Df Model:                           12\n",
      "Date:                Sat, 15 Jul 2023   Pseudo R-squ.:                 0.04256\n",
      "Time:                        13:45:48   Log-Likelihood:                -14087.\n",
      "converged:                       True   LL-Null:                       -14713.\n",
      "Covariance Type:            nonrobust   LLR p-value:                9.101e-261\n",
      "=========================================================================================\n",
      "                            coef    std err          z      P>|z|      [0.025      0.975]\n",
      "-----------------------------------------------------------------------------------------\n",
      "sales_channel            -0.5509      0.055    -10.017      0.000      -0.659      -0.443\n",
      "trip_type                -0.9607      0.019    -50.851      0.000      -0.998      -0.924\n",
      "route                    -0.0004   6.86e-05     -6.423      0.000      -0.001      -0.000\n",
      "booking_origin            0.0077      0.000     16.029      0.000       0.007       0.009\n",
      "num_passengers           -0.0123      0.016     -0.763      0.445      -0.044       0.019\n",
      "purchase_lead            -0.0822      0.016     -5.135      0.000      -0.114      -0.051\n",
      "length_of_stay           -0.2465      0.017    -14.401      0.000      -0.280      -0.213\n",
      "flight_hour              -0.0082      0.015     -0.530      0.596      -0.039       0.022\n",
      "flight_day               -0.0007      0.015     -0.048      0.962      -0.031       0.029\n",
      "wants_extra_baggage       0.2411      0.018     13.722      0.000       0.207       0.276\n",
      "wants_preferred_seat      0.1187      0.016      7.471      0.000       0.088       0.150\n",
      "wants_in_flight_meals     0.0690      0.016      4.205      0.000       0.037       0.101\n",
      "flight_duration          -0.2442      0.017    -14.777      0.000      -0.277      -0.212\n",
      "=========================================================================================\n"
     ]
    }
   ],
   "source": [
    "# build the model on train data (x_train and y_train)\n",
    "# use fit() to fit the logistic regression model\n",
    "logreg = sm.Logit(y_train,x_train).fit()\n",
    "\n",
    "# print the summary of the model\n",
    "print(logreg.summary())"
   ]
  },
  {
   "cell_type": "markdown",
   "id": "f4cf5877",
   "metadata": {},
   "source": [
    "#### Calculate the AIC (Akaike Information Criterion) value."
   ]
  },
  {
   "cell_type": "markdown",
   "id": "10c1bd7b",
   "metadata": {},
   "source": [
    "It is a relative measure of model evaluation. It gives a trade-off between model accuracy and model complexity."
   ]
  },
  {
   "cell_type": "code",
   "execution_count": 33,
   "id": "0e237513",
   "metadata": {},
   "outputs": [
    {
     "name": "stdout",
     "output_type": "stream",
     "text": [
      "AIC: 28199.71736901421\n"
     ]
    }
   ],
   "source": [
    "# 'aic' retuns the AIC value for the model\n",
    "print('AIC:', logreg.aic)"
   ]
  },
  {
   "cell_type": "markdown",
   "id": "36a41498",
   "metadata": {},
   "source": [
    "### Interpret the odds for each variable"
   ]
  },
  {
   "cell_type": "code",
   "execution_count": 34,
   "id": "20467c6c",
   "metadata": {},
   "outputs": [
    {
     "data": {
      "text/html": [
       "<div>\n",
       "<style scoped>\n",
       "    .dataframe tbody tr th:only-of-type {\n",
       "        vertical-align: middle;\n",
       "    }\n",
       "\n",
       "    .dataframe tbody tr th {\n",
       "        vertical-align: top;\n",
       "    }\n",
       "\n",
       "    .dataframe thead th {\n",
       "        text-align: right;\n",
       "    }\n",
       "</style>\n",
       "<table border=\"1\" class=\"dataframe\">\n",
       "  <thead>\n",
       "    <tr style=\"text-align: right;\">\n",
       "      <th></th>\n",
       "      <th>Odds</th>\n",
       "    </tr>\n",
       "  </thead>\n",
       "  <tbody>\n",
       "    <tr>\n",
       "      <th>sales_channel</th>\n",
       "      <td>0.576414</td>\n",
       "    </tr>\n",
       "    <tr>\n",
       "      <th>trip_type</th>\n",
       "      <td>0.382607</td>\n",
       "    </tr>\n",
       "    <tr>\n",
       "      <th>route</th>\n",
       "      <td>0.999559</td>\n",
       "    </tr>\n",
       "    <tr>\n",
       "      <th>booking_origin</th>\n",
       "      <td>1.007746</td>\n",
       "    </tr>\n",
       "    <tr>\n",
       "      <th>num_passengers</th>\n",
       "      <td>0.987782</td>\n",
       "    </tr>\n",
       "  </tbody>\n",
       "</table>\n",
       "</div>"
      ],
      "text/plain": [
       "                   Odds\n",
       "sales_channel  0.576414\n",
       "trip_type      0.382607\n",
       "route          0.999559\n",
       "booking_origin 1.007746\n",
       "num_passengers 0.987782"
      ]
     },
     "execution_count": 34,
     "metadata": {},
     "output_type": "execute_result"
    }
   ],
   "source": [
    "# take the exponential of the coefficient of a variable to calculate the odds\n",
    "# 'params' returns the coefficients of all the independent variables\n",
    "# pass the required column name to the parameter, 'columns'\n",
    "df_odds = pd.DataFrame(np.exp(logreg.params), columns= ['Odds']) \n",
    "\n",
    "# print the dataframe\n",
    "df_odds.head()"
   ]
  },
  {
   "cell_type": "markdown",
   "id": "8b213c16",
   "metadata": {},
   "source": [
    "Since the target variable can take only two values either 0 or 1. We decide the cut-off of 0.5. i.e. if 'y_pred_prob' is less than 0.5, then consider it to be 0 else consider it to be 1"
   ]
  },
  {
   "cell_type": "markdown",
   "id": "523c147d",
   "metadata": {},
   "source": [
    "### Do predictions on the test set."
   ]
  },
  {
   "cell_type": "code",
   "execution_count": 35,
   "id": "e5ca2aea",
   "metadata": {},
   "outputs": [
    {
     "data": {
      "text/plain": [
       "27632   0.135935\n",
       "36119   0.182113\n",
       "4796    0.083733\n",
       "3648    0.090037\n",
       "24501   0.027570\n",
       "dtype: float64"
      ]
     },
     "execution_count": 35,
     "metadata": {},
     "output_type": "execute_result"
    }
   ],
   "source": [
    "# let 'y_pred_prob' be the predicted values of y\n",
    "y_pred_prob = logreg.predict(x_test)\n",
    "\n",
    "# print the y_pred_prob\n",
    "y_pred_prob.head()"
   ]
  },
  {
   "cell_type": "markdown",
   "id": "278d8354",
   "metadata": {},
   "source": [
    "Since the target variable can take only two values either 0 or 1. We decide the cut-off of 0.5. i.e. if 'y_pred_prob' is less than 0.5, then consider it to be 0 else consider it to be 1."
   ]
  },
  {
   "cell_type": "code",
   "execution_count": 36,
   "id": "77299a97",
   "metadata": {},
   "outputs": [],
   "source": [
    "# convert probabilities to 0 and 1 using 'if_else'\n",
    "y_pred = [ 0 if x < 0.5 else 1 for x in y_pred_prob]"
   ]
  },
  {
   "cell_type": "code",
   "execution_count": 37,
   "id": "62ad6ceb",
   "metadata": {},
   "outputs": [
    {
     "data": {
      "text/plain": [
       "[0, 0, 0, 0, 0]"
      ]
     },
     "execution_count": 37,
     "metadata": {},
     "output_type": "execute_result"
    }
   ],
   "source": [
    "# print the first five observations of y_pred\n",
    "y_pred[0:5]"
   ]
  },
  {
   "cell_type": "markdown",
   "id": "e86877e2",
   "metadata": {},
   "source": [
    "*Plot the confusion matrix*"
   ]
  },
  {
   "cell_type": "code",
   "execution_count": 38,
   "id": "0cf5623c",
   "metadata": {},
   "outputs": [
    {
     "data": {
      "image/png": "[encoded data removed]",
      "text/plain": [
       "<Figure size 1080x576 with 1 Axes>"
      ]
     },
     "metadata": {
      "needs_background": "light"
     },
     "output_type": "display_data"
    }
   ],
   "source": [
    "# create a confusion matrix\n",
    "# pass the actual and predicted target values to the confusion_matrix()\n",
    "cm = confusion_matrix(y_test, y_pred)\n",
    "\n",
    "# label the confusion matrix  \n",
    "# pass the matrix as 'data'\n",
    "# pass the required column names to the parameter, 'columns'\n",
    "# pass the required row names to the parameter, 'index'\n",
    "conf_matrix = pd.DataFrame(data = cm,columns = ['Predicted:0','Predicted:1'], index = ['Actual:0','Actual:1'])\n",
    "\n",
    "# plot a heatmap to visualize the confusion matrix\n",
    "# 'annot' prints the value of each grid \n",
    "# 'fmt = d' returns the integer value in each grid\n",
    "# 'cmap' assigns color to each grid\n",
    "# as we do not require different colors for each grid in the heatmap,\n",
    "# use 'ListedColormap' to assign the specified color to the grid\n",
    "# 'cbar = False' will not return the color bar to the right side of the heatmap\n",
    "# 'linewidths' assigns the width to the line that divides each grid\n",
    "# 'annot_kws = {'size':25})' assigns the font size of the annotated text \n",
    "sns.heatmap(conf_matrix, annot = True, fmt = 'd', cmap = ListedColormap(['lightskyblue']), cbar = False, \n",
    "            linewidths = 0.1, annot_kws = {'size':25})\n",
    "\n",
    "# set the font size of x-axis ticks using 'fontsize'\n",
    "plt.xticks(fontsize = 20)\n",
    "\n",
    "# set the font size of y-axis ticks using 'fontsize'\n",
    "plt.yticks(fontsize = 20)\n",
    "\n",
    "# display the plot\n",
    "plt.show()"
   ]
  },
  {
   "cell_type": "code",
   "execution_count": 39,
   "id": "dee006ae",
   "metadata": {},
   "outputs": [
    {
     "name": "stdout",
     "output_type": "stream",
     "text": [
      "              precision    recall  f1-score   support\n",
      "\n",
      "           0       0.85      1.00      0.92     12725\n",
      "           1       0.06      0.00      0.00      2275\n",
      "\n",
      "    accuracy                           0.85     15000\n",
      "   macro avg       0.45      0.50      0.46     15000\n",
      "weighted avg       0.73      0.85      0.78     15000\n",
      "\n"
     ]
    }
   ],
   "source": [
    "# calculate various performance measures\n",
    "acc_table = classification_report(y_test, y_pred)\n",
    "\n",
    "# print the table\n",
    "print(acc_table)"
   ]
  },
  {
   "cell_type": "markdown",
   "id": "928c4122",
   "metadata": {},
   "source": [
    "*OBSERVATION :*The precision and recall for class 0 are very good, but the precision and recall for class 1 are very poor. This suggests that the model is very good at predicting class 0, but it is not very good at predicting class 1. The accuracy is also good, but it is likely being driven by the high precision for class 0."
   ]
  },
  {
   "cell_type": "markdown",
   "id": "9356b5c4",
   "metadata": {},
   "source": [
    "### Kappa score"
   ]
  },
  {
   "cell_type": "markdown",
   "id": "030210c9",
   "metadata": {},
   "source": [
    "It is a measure of inter-rater reliability. For logistic regression, the actual and predicted values of the target variable are the raters."
   ]
  },
  {
   "cell_type": "code",
   "execution_count": 40,
   "id": "2bbdb9cf",
   "metadata": {},
   "outputs": [
    {
     "name": "stdout",
     "output_type": "stream",
     "text": [
      "kappa value: -0.0015125418571915183\n"
     ]
    }
   ],
   "source": [
    "# compute the kappa value\n",
    "kappa = cohen_kappa_score(y_test, y_pred)\n",
    "\n",
    "# print the kappa value\n",
    "print('kappa value:',kappa)"
   ]
  },
  {
   "cell_type": "markdown",
   "id": "b55dc275",
   "metadata": {},
   "source": [
    "*Inference:*The kappa value is -0.0015125418571915183, which is very close to 0. This suggests that the model is not doing much better than random guessing.\n",
    "\n",
    "Here are some possible reasons why the kappa value is so low:\n",
    "\n",
    "The dataset is imbalanced, meaning that there are more instances of one class than the other.\n",
    "The features used to train the model are not very predictive.\n",
    "The model is not very complex.\n",
    "To improve the kappa value, you could try to:\n",
    "\n",
    "Balance the dataset.\n",
    "Use more predictive features.\n",
    "Train a more complex model."
   ]
  },
  {
   "cell_type": "markdown",
   "id": "541430e3",
   "metadata": {},
   "source": [
    "### Plot the ROC curve"
   ]
  },
  {
   "cell_type": "markdown",
   "id": "67aeb217",
   "metadata": {},
   "source": [
    "ROC curve is plotted with the true positive rate (tpr) on the y-axis and false positive rate (fpr) on the x-axis. The area under this curve is used as a measure of separability of the model."
   ]
  },
  {
   "cell_type": "code",
   "execution_count": 41,
   "id": "363d7d3e",
   "metadata": {},
   "outputs": [
    {
     "data": {
      "image/png": "[encoded data removed]",
      "text/plain": [
       "<Figure size 1080x576 with 1 Axes>"
      ]
     },
     "metadata": {
      "needs_background": "light"
     },
     "output_type": "display_data"
    }
   ],
   "source": [
    "# the roc_curve() returns the values for false positive rate, true positive rate and threshold\n",
    "# pass the actual target values and predicted probabilities to the function\n",
    "fpr, tpr, thresholds = roc_curve(y_test, y_pred_prob)\n",
    "\n",
    "# plot the ROC curve\n",
    "plt.plot(fpr, tpr)\n",
    "\n",
    "# set limits for x and y axes\n",
    "plt.xlim([0.0, 1.0])\n",
    "plt.ylim([0.0, 1.0])\n",
    "\n",
    "# plot the straight line showing worst prediction for the model\n",
    "plt.plot([0, 1], [0, 1],'r--')\n",
    "\n",
    "# add plot and axes labels\n",
    "# set text size using 'fontsize'\n",
    "plt.title('ROC curve for Customer bookings  (Full Model)', fontsize = 15)\n",
    "plt.xlabel('False positive rate (1-Specificity)', fontsize = 15)\n",
    "plt.ylabel('True positive rate (Sensitivity)', fontsize = 15)\n",
    "\n",
    "# add the AUC score to the plot\n",
    "# 'x' and 'y' gives position of the text\n",
    "# 's' is the text \n",
    "# use round() to round-off the AUC score upto 4 digits\n",
    "plt.text(x = 0.02, y = 0.9, s = ('AUC Score:', round(metrics.roc_auc_score(y_test, y_pred_prob),4)))\n",
    "                               \n",
    "# plot the grid\n",
    "plt.grid(True)"
   ]
  },
  {
   "cell_type": "markdown",
   "id": "212a49e4",
   "metadata": {},
   "source": [
    "### Interpretation: \n",
    "The red dotted line represents the ROC curve of a purely random classifier; a good classifier stays as far away from that line as possible (toward the top-left corner).\n",
    "From the above plot, we can see that the AUC score is 0.6604, which is considered to be a moderate score. This suggests that the model is not perfect, but it is better than random."
   ]
  },
  {
   "cell_type": "code",
   "execution_count": 42,
   "id": "204fcf9f",
   "metadata": {},
   "outputs": [
    {
     "data": {
      "text/plain": [
       "0.8472666666666666"
      ]
     },
     "execution_count": 42,
     "metadata": {},
     "output_type": "execute_result"
    }
   ],
   "source": [
    "metrics.accuracy_score(y_test, y_pred)"
   ]
  },
  {
   "cell_type": "code",
   "execution_count": 43,
   "id": "bc667fbf",
   "metadata": {},
   "outputs": [],
   "source": [
    "# consider a list of values for cut-off\n",
    "cutoff = [0.1, 0.2, 0.3, 0.4, 0.5, 0.6, 0.7, 0.8, 0.9]\n",
    "\n",
    "# use the for loop to compute performance measures for each value of the cut-off\n",
    "# call the update_score_card() to update the score card for each cut-off\n",
    "# pass the model and cut-off value to the function\n",
    "for value in cutoff:\n",
    "    update_score_card(logreg, value)"
   ]
  },
  {
   "cell_type": "code",
   "execution_count": 44,
   "id": "c1df5338",
   "metadata": {},
   "outputs": [
    {
     "name": "stdout",
     "output_type": "stream",
     "text": [
      "Score Card for Logistic regression:\n"
     ]
    },
    {
     "data": {
      "text/html": [
       "<style type=\"text/css\">\n",
       "#T_a9744_row0_col1, #T_a9744_row0_col6, #T_a9744_row1_col1, #T_a9744_row1_col5, #T_a9744_row2_col1, #T_a9744_row3_col1, #T_a9744_row4_col1, #T_a9744_row5_col1, #T_a9744_row6_col1, #T_a9744_row7_col1, #T_a9744_row7_col4, #T_a9744_row8_col1, #T_a9744_row8_col4 {\n",
       "  background-color: blue;\n",
       "}\n",
       "</style>\n",
       "<table id=\"T_a9744\">\n",
       "  <thead>\n",
       "    <tr>\n",
       "      <th class=\"blank level0\" >&nbsp;</th>\n",
       "      <th id=\"T_a9744_level0_col0\" class=\"col_heading level0 col0\" >Probability Cutoff</th>\n",
       "      <th id=\"T_a9744_level0_col1\" class=\"col_heading level0 col1\" >AUC Score</th>\n",
       "      <th id=\"T_a9744_level0_col2\" class=\"col_heading level0 col2\" >Precision Score</th>\n",
       "      <th id=\"T_a9744_level0_col3\" class=\"col_heading level0 col3\" >Recall Score</th>\n",
       "      <th id=\"T_a9744_level0_col4\" class=\"col_heading level0 col4\" >Accuracy Score</th>\n",
       "      <th id=\"T_a9744_level0_col5\" class=\"col_heading level0 col5\" >Kappa Score</th>\n",
       "      <th id=\"T_a9744_level0_col6\" class=\"col_heading level0 col6\" >f1-score</th>\n",
       "    </tr>\n",
       "  </thead>\n",
       "  <tbody>\n",
       "    <tr>\n",
       "      <th id=\"T_a9744_level0_row0\" class=\"row_heading level0 row0\" >0</th>\n",
       "      <td id=\"T_a9744_row0_col0\" class=\"data row0 col0\" >0.100000</td>\n",
       "      <td id=\"T_a9744_row0_col1\" class=\"data row0 col1\" >0.660363</td>\n",
       "      <td id=\"T_a9744_row0_col2\" class=\"data row0 col2\" >0.187027</td>\n",
       "      <td id=\"T_a9744_row0_col3\" class=\"data row0 col3\" >0.869451</td>\n",
       "      <td id=\"T_a9744_row0_col4\" class=\"data row0 col4\" >0.407000</td>\n",
       "      <td id=\"T_a9744_row0_col5\" class=\"data row0 col5\" >0.077564</td>\n",
       "      <td id=\"T_a9744_row0_col6\" class=\"data row0 col6\" >0.307836</td>\n",
       "    </tr>\n",
       "    <tr>\n",
       "      <th id=\"T_a9744_level0_row1\" class=\"row_heading level0 row1\" >1</th>\n",
       "      <td id=\"T_a9744_row1_col0\" class=\"data row1 col0\" >0.200000</td>\n",
       "      <td id=\"T_a9744_row1_col1\" class=\"data row1 col1\" >0.660363</td>\n",
       "      <td id=\"T_a9744_row1_col2\" class=\"data row1 col2\" >0.250964</td>\n",
       "      <td id=\"T_a9744_row1_col3\" class=\"data row1 col3\" >0.371868</td>\n",
       "      <td id=\"T_a9744_row1_col4\" class=\"data row1 col4\" >0.736400</td>\n",
       "      <td id=\"T_a9744_row1_col5\" class=\"data row1 col5\" >0.144797</td>\n",
       "      <td id=\"T_a9744_row1_col6\" class=\"data row1 col6\" >0.299681</td>\n",
       "    </tr>\n",
       "    <tr>\n",
       "      <th id=\"T_a9744_level0_row2\" class=\"row_heading level0 row2\" >2</th>\n",
       "      <td id=\"T_a9744_row2_col0\" class=\"data row2 col0\" >0.300000</td>\n",
       "      <td id=\"T_a9744_row2_col1\" class=\"data row2 col1\" >0.660363</td>\n",
       "      <td id=\"T_a9744_row2_col2\" class=\"data row2 col2\" >0.270479</td>\n",
       "      <td id=\"T_a9744_row2_col3\" class=\"data row2 col3\" >0.076923</td>\n",
       "      <td id=\"T_a9744_row2_col4\" class=\"data row2 col4\" >0.828533</td>\n",
       "      <td id=\"T_a9744_row2_col5\" class=\"data row2 col5\" >0.056404</td>\n",
       "      <td id=\"T_a9744_row2_col6\" class=\"data row2 col6\" >0.119781</td>\n",
       "    </tr>\n",
       "    <tr>\n",
       "      <th id=\"T_a9744_level0_row3\" class=\"row_heading level0 row3\" >3</th>\n",
       "      <td id=\"T_a9744_row3_col0\" class=\"data row3 col0\" >0.400000</td>\n",
       "      <td id=\"T_a9744_row3_col1\" class=\"data row3 col1\" >0.660363</td>\n",
       "      <td id=\"T_a9744_row3_col2\" class=\"data row3 col2\" >0.111111</td>\n",
       "      <td id=\"T_a9744_row3_col3\" class=\"data row3 col3\" >0.003956</td>\n",
       "      <td id=\"T_a9744_row3_col4\" class=\"data row3 col4\" >0.844133</td>\n",
       "      <td id=\"T_a9744_row3_col5\" class=\"data row3 col5\" >-0.002818</td>\n",
       "      <td id=\"T_a9744_row3_col6\" class=\"data row3 col6\" >0.007640</td>\n",
       "    </tr>\n",
       "    <tr>\n",
       "      <th id=\"T_a9744_level0_row4\" class=\"row_heading level0 row4\" >4</th>\n",
       "      <td id=\"T_a9744_row4_col0\" class=\"data row4 col0\" >0.500000</td>\n",
       "      <td id=\"T_a9744_row4_col1\" class=\"data row4 col1\" >0.660363</td>\n",
       "      <td id=\"T_a9744_row4_col2\" class=\"data row4 col2\" >0.055556</td>\n",
       "      <td id=\"T_a9744_row4_col3\" class=\"data row4 col3\" >0.000440</td>\n",
       "      <td id=\"T_a9744_row4_col4\" class=\"data row4 col4\" >0.847267</td>\n",
       "      <td id=\"T_a9744_row4_col5\" class=\"data row4 col5\" >-0.001513</td>\n",
       "      <td id=\"T_a9744_row4_col6\" class=\"data row4 col6\" >0.000872</td>\n",
       "    </tr>\n",
       "    <tr>\n",
       "      <th id=\"T_a9744_level0_row5\" class=\"row_heading level0 row5\" >5</th>\n",
       "      <td id=\"T_a9744_row5_col0\" class=\"data row5 col0\" >0.600000</td>\n",
       "      <td id=\"T_a9744_row5_col1\" class=\"data row5 col1\" >0.660363</td>\n",
       "      <td id=\"T_a9744_row5_col2\" class=\"data row5 col2\" >0.000000</td>\n",
       "      <td id=\"T_a9744_row5_col3\" class=\"data row5 col3\" >0.000000</td>\n",
       "      <td id=\"T_a9744_row5_col4\" class=\"data row5 col4\" >0.847867</td>\n",
       "      <td id=\"T_a9744_row5_col5\" class=\"data row5 col5\" >-0.000931</td>\n",
       "      <td id=\"T_a9744_row5_col6\" class=\"data row5 col6\" >0.000000</td>\n",
       "    </tr>\n",
       "    <tr>\n",
       "      <th id=\"T_a9744_level0_row6\" class=\"row_heading level0 row6\" >6</th>\n",
       "      <td id=\"T_a9744_row6_col0\" class=\"data row6 col0\" >0.700000</td>\n",
       "      <td id=\"T_a9744_row6_col1\" class=\"data row6 col1\" >0.660363</td>\n",
       "      <td id=\"T_a9744_row6_col2\" class=\"data row6 col2\" >0.000000</td>\n",
       "      <td id=\"T_a9744_row6_col3\" class=\"data row6 col3\" >0.000000</td>\n",
       "      <td id=\"T_a9744_row6_col4\" class=\"data row6 col4\" >0.848200</td>\n",
       "      <td id=\"T_a9744_row6_col5\" class=\"data row6 col5\" >-0.000267</td>\n",
       "      <td id=\"T_a9744_row6_col6\" class=\"data row6 col6\" >0.000000</td>\n",
       "    </tr>\n",
       "    <tr>\n",
       "      <th id=\"T_a9744_level0_row7\" class=\"row_heading level0 row7\" >7</th>\n",
       "      <td id=\"T_a9744_row7_col0\" class=\"data row7 col0\" >0.800000</td>\n",
       "      <td id=\"T_a9744_row7_col1\" class=\"data row7 col1\" >0.660363</td>\n",
       "      <td id=\"T_a9744_row7_col2\" class=\"data row7 col2\" >0.000000</td>\n",
       "      <td id=\"T_a9744_row7_col3\" class=\"data row7 col3\" >0.000000</td>\n",
       "      <td id=\"T_a9744_row7_col4\" class=\"data row7 col4\" >0.848333</td>\n",
       "      <td id=\"T_a9744_row7_col5\" class=\"data row7 col5\" >0.000000</td>\n",
       "      <td id=\"T_a9744_row7_col6\" class=\"data row7 col6\" >0.000000</td>\n",
       "    </tr>\n",
       "    <tr>\n",
       "      <th id=\"T_a9744_level0_row8\" class=\"row_heading level0 row8\" >8</th>\n",
       "      <td id=\"T_a9744_row8_col0\" class=\"data row8 col0\" >0.900000</td>\n",
       "      <td id=\"T_a9744_row8_col1\" class=\"data row8 col1\" >0.660363</td>\n",
       "      <td id=\"T_a9744_row8_col2\" class=\"data row8 col2\" >0.000000</td>\n",
       "      <td id=\"T_a9744_row8_col3\" class=\"data row8 col3\" >0.000000</td>\n",
       "      <td id=\"T_a9744_row8_col4\" class=\"data row8 col4\" >0.848333</td>\n",
       "      <td id=\"T_a9744_row8_col5\" class=\"data row8 col5\" >0.000000</td>\n",
       "      <td id=\"T_a9744_row8_col6\" class=\"data row8 col6\" >0.000000</td>\n",
       "    </tr>\n",
       "  </tbody>\n",
       "</table>\n"
      ],
      "text/plain": [
       "<pandas.io.formats.style.Styler at 0x15a274bff70>"
      ]
     },
     "execution_count": 44,
     "metadata": {},
     "output_type": "execute_result"
    }
   ],
   "source": [
    "# print the score card \n",
    "print('Score Card for Logistic regression:')\n",
    "\n",
    "# sort the dataframe based on the probability cut-off values ascending order\n",
    "# 'reset_index' resets the index of the dataframe\n",
    "# 'drop = True' drops the previous index\n",
    "score_card = score_card.sort_values('Probability Cutoff').reset_index(drop = True)\n",
    "\n",
    "# color the cell in the columns 'AUC Score', 'Accuracy Score', 'Kappa Score', 'f1-score' having maximum values\n",
    "# 'style.highlight_max' assigns color to the maximum value\n",
    "# pass specified color to the parameter, 'color'\n",
    "# pass the data to limit the color assignment to the parameter, 'subset' \n",
    "score_card.style.highlight_max(color = 'blue', subset = ['AUC Score', 'Accuracy Score', 'Kappa Score', 'f1-score'])"
   ]
  },
  {
   "cell_type": "markdown",
   "id": "a5352974",
   "metadata": {},
   "source": [
    "1)The AUC score is highest at a probability cutoff of 0.10, which means that the model is best at distinguishing between the two classes at this cutoff.\n",
    "\n",
    "2)The precision score is highest at a probability cutoff of 0.20, which means that the model is most accurate at predicting class 1 at this cutoff.\n",
    "\n",
    "3)The recall score is highest at a probability cutoff of 0.30, which means that the model is most likely to predict class 1 at this cutoff.\n",
    "\n",
    "4)The accuracy score is highest at a probability cutoff of 0.70, which means that the model is most likely to correctly classify an instance at this cutoff.\n",
    "\n",
    "5)The kappa score is highest at a probability cutoff of 0.80, which means that the model is most similar to a random model at this cutoff.\n",
    "\n",
    "6)The f1-score is highest at a probability cutoff of 0.20, which means that the model is most balanced at this cutoff.\n",
    "\n",
    "Overall, the model performs best at a probability cutoff of 0.10. This means that the model is best at distinguishing between the two classes at this cutoff. However, the model is not very accurate at predicting class 1 at this cutoff.\n",
    "\n",
    "Here are some possible reasons why the model performs better at a probability cutoff of 0.10:\n",
    "\n",
    "The dataset is imbalanced, meaning that there are more instances of one class than the other.\n",
    "The features used to train the model are not very predictive.\n",
    "The model is not very complex."
   ]
  },
  {
   "cell_type": "markdown",
   "id": "2efdcf31",
   "metadata": {},
   "source": [
    "# Model 2. Random Forest for Classification(Full Model)"
   ]
  },
  {
   "cell_type": "markdown",
   "id": "08beaf65",
   "metadata": {},
   "source": [
    "It is the method of constructing multiple decision trees on randomly selected data samples. We can use the bootstrap sampling method to select the random samples of the same size from the dataset to construct multiple trees. This method is used for both regression and classification analysis. The random forest returns the prediction based on all the individual decision trees prediction. For regression, it returns the average of all the predicted values; and for classification, it returns the class, which is the mode of all the predicted classes. \n",
    "\n",
    "It avoids the over-fitting problem as it considers a random data sample to construct a decision tree. "
   ]
  },
  {
   "cell_type": "code",
   "execution_count": 45,
   "id": "d19e8edc",
   "metadata": {},
   "outputs": [],
   "source": [
    "from sklearn.ensemble import RandomForestClassifier\n",
    "from sklearn import tree\n",
    "from sklearn.model_selection import GridSearchCV\n",
    "\n",
    "# instantiate the 'RandomForestClassifier'\n",
    "# pass the required number of trees in the random forest to the parameter, 'n_estimators'\n",
    "# pass the 'random_state' to obtain the same samples for each time you run the code\n",
    "rf_classification = RandomForestClassifier(n_estimators = 15, random_state = 10)\n",
    "\n",
    "# use fit() to fit the model on the train set\n",
    "rf_model = rf_classification.fit(x_train, y_train)"
   ]
  },
  {
   "cell_type": "markdown",
   "id": "207ee88e",
   "metadata": {},
   "source": [
    "#### Create a generalized function to calculate the metrics for the train and the test set."
   ]
  },
  {
   "cell_type": "code",
   "execution_count": 46,
   "id": "d7ff0f87",
   "metadata": {},
   "outputs": [],
   "source": [
    "# create a generalized function to calculate the metrics values for train set\n",
    "def get_train_report(model):\n",
    "    \n",
    "    # for training set:\n",
    "    # train_pred: prediction made by the model on the train dataset 'X_train'\n",
    "    # y_train: actual values of the target variable for the train dataset\n",
    "\n",
    "    # predict the output of the target variable from the train data \n",
    "    train_pred = model.predict(x_train)\n",
    "\n",
    "    # return the performace measures on train set\n",
    "    return(classification_report(y_train, train_pred))"
   ]
  },
  {
   "cell_type": "code",
   "execution_count": 47,
   "id": "0d47d3cd",
   "metadata": {},
   "outputs": [],
   "source": [
    "# create a generalized function to calculate the metrics values for test set\n",
    "def get_test_report(model):\n",
    "    \n",
    "    # for test set:\n",
    "    # test_pred: prediction made by the model on the test dataset 'X_test'\n",
    "    # y_test: actual values of the target variable for the test dataset\n",
    "\n",
    "    # predict the output of the target variable from the test data \n",
    "    test_pred = model.predict(x_test)\n",
    "\n",
    "    # return the performace measures on test set\n",
    "    return(classification_report(y_test, test_pred))"
   ]
  },
  {
   "cell_type": "code",
   "execution_count": null,
   "id": "055e76cf",
   "metadata": {},
   "outputs": [],
   "source": []
  },
  {
   "cell_type": "code",
   "execution_count": 48,
   "id": "80ee956a",
   "metadata": {},
   "outputs": [
    {
     "data": {
      "image/png": "[encoded data removed]",
      "text/plain": [
       "<Figure size 1080x576 with 1 Axes>"
      ]
     },
     "metadata": {
      "needs_background": "light"
     },
     "output_type": "display_data"
    }
   ],
   "source": [
    "y_pred=rf_model.predict(x_test)\n",
    "\n",
    "cm = confusion_matrix(y_test, y_pred)\n",
    "\n",
    "conf_matrix = pd.DataFrame(data = cm,columns = ['Predicted:0','Predicted:1'], index = ['Actual:0','Actual:1'])\n",
    "\n",
    "sns.heatmap(conf_matrix, annot = True, fmt = 'd', cmap = ListedColormap(['lightskyblue']), cbar = False, \n",
    "            linewidths = 0.1, annot_kws = {'size':25})\n",
    "\n",
    "plt.xticks(fontsize = 20)\n",
    "plt.yticks(fontsize = 20)\n",
    "\n",
    "# display the plot\n",
    "plt.show()"
   ]
  },
  {
   "cell_type": "markdown",
   "id": "ae21538a",
   "metadata": {},
   "source": [
    "**Calculate performance measures on the train set.**"
   ]
  },
  {
   "cell_type": "code",
   "execution_count": 49,
   "id": "b9996645",
   "metadata": {},
   "outputs": [
    {
     "name": "stdout",
     "output_type": "stream",
     "text": [
      "              precision    recall  f1-score   support\n",
      "\n",
      "           0       0.99      1.00      1.00     29797\n",
      "           1       1.00      0.97      0.98      5203\n",
      "\n",
      "    accuracy                           0.99     35000\n",
      "   macro avg       1.00      0.98      0.99     35000\n",
      "weighted avg       0.99      0.99      0.99     35000\n",
      "\n"
     ]
    }
   ],
   "source": [
    "# compute the performance measures on train data\n",
    "# call the function 'get_train_report'\n",
    "# pass the random forest model to the function\n",
    "train_report = get_train_report(rf_model)\n",
    "\n",
    "# print the performace measures\n",
    "print(train_report) "
   ]
  },
  {
   "cell_type": "markdown",
   "id": "2774a081",
   "metadata": {},
   "source": [
    "*INFERENCE*\n",
    "\n",
    "The precision and recall for both classes are very good. This suggests that the model is very good at predicting both class 0 and class 1. The accuracy is also very good, which means that the model is very likely to correctly classify an instance."
   ]
  },
  {
   "cell_type": "markdown",
   "id": "e6954237",
   "metadata": {},
   "source": [
    "**Calculate performance measures on the test set.**"
   ]
  },
  {
   "cell_type": "code",
   "execution_count": 50,
   "id": "acf7abe0",
   "metadata": {},
   "outputs": [
    {
     "name": "stdout",
     "output_type": "stream",
     "text": [
      "              precision    recall  f1-score   support\n",
      "\n",
      "           0       0.86      0.97      0.91     12725\n",
      "           1       0.43      0.13      0.20      2275\n",
      "\n",
      "    accuracy                           0.84     15000\n",
      "   macro avg       0.65      0.55      0.56     15000\n",
      "weighted avg       0.80      0.84      0.80     15000\n",
      "\n"
     ]
    }
   ],
   "source": [
    "# compute the performance measures on test data\n",
    "# call the function 'get_test_report'\n",
    "# pass the random forest model to the function\n",
    "test_report = get_test_report(rf_model)\n",
    "\n",
    "# print the performace measures\n",
    "print(test_report) "
   ]
  },
  {
   "cell_type": "markdown",
   "id": "ac1edf74",
   "metadata": {},
   "source": [
    "*INFERENCE*\n",
    "\n",
    "The precision and recall for class 0 are very good. However, the precision and recall for class 1 are very poor. This suggests that the model is very good at predicting class 0, but it is not very good at predicting class 1. The accuracy is also good, but it is likely being driven by the high precision for class 0."
   ]
  },
  {
   "cell_type": "markdown",
   "id": "430d2a7b",
   "metadata": {},
   "source": [
    "# Model 3 : XGB classifier with all features"
   ]
  },
  {
   "cell_type": "markdown",
   "id": "5f73d092",
   "metadata": {},
   "source": [
    "XGBoost (extreme gradient boost) is an alternative form of gradient boosting method. This method generally considers the initial prediction as 0.5 and build the decision tree to predict the residuals. It considers the regularization parameter to avoid overfitting."
   ]
  },
  {
   "cell_type": "code",
   "execution_count": 51,
   "id": "2e7f1e56",
   "metadata": {},
   "outputs": [],
   "source": [
    "from sklearn.metrics import roc_auc_score\n",
    "from sklearn.metrics import accuracy_score"
   ]
  },
  {
   "cell_type": "code",
   "execution_count": 61,
   "id": "236b42aa",
   "metadata": {},
   "outputs": [
    {
     "name": "stdout",
     "output_type": "stream",
     "text": [
      "x_train:  (35000, 13)\n",
      "y_train:  (35000,)\n",
      "x_test:  (15000, 13)\n",
      "y_test:  (15000,)\n"
     ]
    }
   ],
   "source": [
    "# split data into train subset and test subset\n",
    "# set 'random_state' to generate the same dataset each time you run the code \n",
    "# 'test_size' returns the proportion of data to be included in the testing set\n",
    "X_train, X_test ,y_train ,y_test = train_test_split(df_features,df_target, random_state=10, test_size=0.3)\n",
    "\n",
    "# check the dimensions of the train & test subset using 'shape'\n",
    "# print dimension of train set\n",
    "print('x_train: ',X_train.shape)\n",
    "print('y_train: ',y_train.shape)\n",
    "\n",
    "# print dimension of test set\n",
    "print('x_test: ',X_test.shape)\n",
    "print('y_test: ',y_test.shape)"
   ]
  },
  {
   "cell_type": "markdown",
   "id": "75bcc12f",
   "metadata": {},
   "source": [
    "**Plot the confusion metrix**"
   ]
  },
  {
   "cell_type": "code",
   "execution_count": 62,
   "id": "e82dbbec",
   "metadata": {},
   "outputs": [],
   "source": [
    "def plot_confusion_matrix(model):\n",
    "    y_pred = model.predict(X_test)\n",
    "    \n",
    "    # create a confusion matrix\n",
    "    # pass the actual and predicted target values to the confusion_matrix()\n",
    "    cm = confusion_matrix(y_test, y_pred)\n",
    "\n",
    "    # label the confusion matrix  \n",
    "    # pass the matrix as 'data'\n",
    "    # pass the required column names to the parameter, 'columns'\n",
    "    # pass the required row names to the parameter, 'index'\n",
    "    conf_matrix = pd.DataFrame(data = cm,columns = ['Predicted:0','Predicted:1'], index = ['Actual:0','Actual:1'])\n",
    "\n",
    "    # plot a heatmap to visualize the confusion matrix\n",
    "    # 'annot' prints the value of each grid \n",
    "    # 'fmt = d' returns the integer value in each grid\n",
    "    # 'cmap' assigns color to each grid\n",
    "    # as we do not require different colors for each grid in the heatmap,\n",
    "    # use 'ListedColormap' to assign the specified color to the grid\n",
    "    # 'cbar = False' will not return the color bar to the right side of the heatmap\n",
    "    # 'linewidths' assigns the width to the line that divides each grid\n",
    "    # 'annot_kws = {'size':25})' assigns the font size of the annotated text \n",
    "    sns.heatmap(conf_matrix, annot = True, fmt = 'd', cmap = ListedColormap(['lightskyblue']), cbar = False, \n",
    "                linewidths = 0.1, annot_kws = {'size':25})\n",
    "\n",
    "    # set the font size of x-axis ticks using 'fontsize'\n",
    "    plt.xticks(fontsize = 20)\n",
    "\n",
    "    # set the font size of y-axis ticks using 'fontsize'\n",
    "    plt.yticks(fontsize = 20)\n",
    "\n",
    "    # display the plot\n",
    "    plt.show()"
   ]
  },
  {
   "cell_type": "markdown",
   "id": "2aa34f80",
   "metadata": {},
   "source": [
    "#### Plot the ROC curve."
   ]
  },
  {
   "cell_type": "code",
   "execution_count": 63,
   "id": "f7705ef1",
   "metadata": {},
   "outputs": [],
   "source": [
    "def plot_roc(model):\n",
    "    y_pred_prob = model.predict_proba(X_test)[:,1]\n",
    "    \n",
    "    # the roc_curve() returns the values for false positive rate, true positive rate and threshold\n",
    "    # pass the actual target values and predicted probabilities to the function\n",
    "    fpr, tpr, thresholds = roc_curve(y_test, y_pred_prob)\n",
    "\n",
    "    # plot the ROC curve\n",
    "    plt.plot(fpr, tpr)\n",
    "\n",
    "    # set limits for x and y axes\n",
    "    plt.xlim([0.0, 1.0])\n",
    "    plt.ylim([0.0, 1.0])\n",
    "\n",
    "    # plot the straight line showing worst prediction for the model\n",
    "    plt.plot([0, 1], [0, 1],'r--')\n",
    "\n",
    "    # add plot and axes labels\n",
    "    # set text size using 'fontsize'\n",
    "    plt.title('ROC curve  Classifier', fontsize = 15)\n",
    "    plt.xlabel('False positive rate (1-Specificity)', fontsize = 15)\n",
    "    plt.ylabel('True positive rate (Sensitivity)', fontsize = 15)\n",
    "\n",
    "    # add the AUC score to the plot\n",
    "    # 'x' and 'y' gives position of the text\n",
    "    # 's' is the text \n",
    "    # use round() to round-off the AUC score upto 4 digits\n",
    "    plt.text(x = 0.82, y = 0.3, s = ('AUC Score:',round(roc_auc_score(y_test, y_pred_prob),4)))\n",
    "\n",
    "    # plot the grid\n",
    "    plt.grid(True)"
   ]
  },
  {
   "cell_type": "markdown",
   "id": "66f85765",
   "metadata": {},
   "source": [
    "#### Build an XGBoost model on a training dataset."
   ]
  },
  {
   "cell_type": "code",
   "execution_count": 64,
   "id": "1bf4c276",
   "metadata": {},
   "outputs": [
    {
     "data": {
      "text/plain": [
       "XGBClassifier(base_score=None, booster=None, callbacks=None,\n",
       "              colsample_bylevel=None, colsample_bynode=None,\n",
       "              colsample_bytree=None, early_stopping_rounds=None,\n",
       "              enable_categorical=False, eval_metric=None, feature_types=None,\n",
       "              gamma=1, gpu_id=None, grow_policy=None, importance_type=None,\n",
       "              interaction_constraints=None, learning_rate=None, max_bin=None,\n",
       "              max_cat_threshold=None, max_cat_to_onehot=None,\n",
       "              max_delta_step=None, max_depth=10, max_leaves=None,\n",
       "              min_child_weight=None, missing=nan, monotone_constraints=None,\n",
       "              n_estimators=100, n_jobs=None, num_parallel_tree=None,\n",
       "              predictor=None, random_state=None, ...)"
      ]
     },
     "execution_count": 64,
     "metadata": {},
     "output_type": "execute_result"
    }
   ],
   "source": [
    "# import the XGBoost function for classification\n",
    "from xgboost import XGBClassifier\n",
    "# instantiate the 'XGBClassifier'\n",
    "# set the maximum depth of the tree using the parameter, 'max_depth'\n",
    "# pass the value of minimum loss reduction required for partition of the leaf node to the parameter, 'gamma'\n",
    "xgb_model = XGBClassifier(max_depth = 10, gamma = 1)\n",
    "\n",
    "# fit the model using fit() on train data\n",
    "xgb_model.fit(x_train, y_train)"
   ]
  },
  {
   "cell_type": "markdown",
   "id": "bfb95e09",
   "metadata": {},
   "source": [
    "#### Plot the confusion matrix."
   ]
  },
  {
   "cell_type": "code",
   "execution_count": 65,
   "id": "51cc9b04",
   "metadata": {},
   "outputs": [
    {
     "data": {
      "image/png": "[encoded data removed]",
      "text/plain": [
       "<Figure size 1080x576 with 1 Axes>"
      ]
     },
     "metadata": {
      "needs_background": "light"
     },
     "output_type": "display_data"
    }
   ],
   "source": [
    "# call the function to plot the confusion matrix\n",
    "# pass the XGBoost model to the function\n",
    "plot_confusion_matrix(xgb_model)"
   ]
  },
  {
   "cell_type": "markdown",
   "id": "c63e0601",
   "metadata": {},
   "source": [
    "**Calculate performance measures on the train & test set.**"
   ]
  },
  {
   "cell_type": "code",
   "execution_count": 66,
   "id": "a383c853",
   "metadata": {
    "scrolled": true
   },
   "outputs": [
    {
     "name": "stdout",
     "output_type": "stream",
     "text": [
      "              precision    recall  f1-score   support\n",
      "\n",
      "           0       0.96      1.00      0.98     29797\n",
      "           1       0.98      0.78      0.87      5203\n",
      "\n",
      "    accuracy                           0.97     35000\n",
      "   macro avg       0.97      0.89      0.93     35000\n",
      "weighted avg       0.97      0.97      0.96     35000\n",
      "\n"
     ]
    }
   ],
   "source": [
    "# compute the performance measures on test data\n",
    "# call the function 'get_test_report'\n",
    "# pass the gradient boosting model to the function\n",
    "train_report = get_train_report(xgb_model)\n",
    "\n",
    "# print the performance measures\n",
    "print(train_report)"
   ]
  },
  {
   "cell_type": "markdown",
   "id": "15cdc028",
   "metadata": {},
   "source": [
    "**Inference**\n",
    "\n",
    "In this classification problem, the model achieved an overall accuracy of 97% on a dataset of 35,000 samples. The precision of class 0 (the negative class) was 96%, indicating that 96% of the samples predicted as class 0 were actually negative. The precision of class 1 (the positive class) was 98%, indicating that 98% of the samples predicted as class 1 were actually positive.\n",
    "\n",
    "The recall of class 0 was 100%, meaning that the model correctly identified all negative samples. However, the recall of class 1 was 78%, indicating that the model missed identifying 22% of the positive samples.\n",
    "\n",
    "The F1-score, which combines precision and recall, was 98% for class 0 and 87% for class 1. The weighted average F1-score across both classes was 96%.\n",
    "\n",
    "Overall, the model performed well with high accuracy, precision, and F1-score for the majority class (class 0). However, it had lower recall and F1-score for the minority class (class 1), suggesting that it struggled to correctly identify positive samples."
   ]
  },
  {
   "cell_type": "code",
   "execution_count": 67,
   "id": "f707002f",
   "metadata": {
    "scrolled": true
   },
   "outputs": [
    {
     "name": "stdout",
     "output_type": "stream",
     "text": [
      "              precision    recall  f1-score   support\n",
      "\n",
      "           0       0.87      0.96      0.91     12725\n",
      "           1       0.45      0.18      0.26      2275\n",
      "\n",
      "    accuracy                           0.84     15000\n",
      "   macro avg       0.66      0.57      0.59     15000\n",
      "weighted avg       0.80      0.84      0.81     15000\n",
      "\n"
     ]
    }
   ],
   "source": [
    "# compute the performance measures on test data\n",
    "# call the function 'get_test_report'\n",
    "# pass the XGBoost model to the function\n",
    "test_report = get_test_report(xgb_model)\n",
    "\n",
    "# print the performance measures\n",
    "print(test_report)"
   ]
  },
  {
   "cell_type": "markdown",
   "id": "4e5eb4ac",
   "metadata": {},
   "source": [
    "**Inference**\n",
    "\n",
    "\n",
    "In this classification problem, the model achieved an overall accuracy of 84% on a dataset of 15,000 samples. The precision of class 0 (the negative class) was 87%, indicating that 87% of the samples predicted as class 0 were actually negative. The precision of class 1 (the positive class) was 45%, indicating that 45% of the samples predicted as class 1 were actually positive.\n",
    "\n",
    "The recall of class 0 was 96%, meaning that the model correctly identified 96% of the negative samples. However, the recall of class 1 was only 18%, indicating that the model missed identifying 82% of the positive samples.\n",
    "\n",
    "The F1-score, which combines precision and recall, was 91% for class 0 and 26% for class 1. The weighted average F1-score across both classes was 81%.\n",
    "\n",
    "The macro average precision, recall, and F1-score were lower than the weighted average, indicating an imbalance in the performance between the two classes.\n",
    "\n",
    "Overall, the model had a high accuracy and precision for the majority class (class 0), but it struggled with recall and F1-score for the minority class (class 1). This suggests that the model had difficulty correctly identifying positive samples, resulting in lower performance for class 1."
   ]
  },
  {
   "cell_type": "code",
   "execution_count": 68,
   "id": "0eca92f0",
   "metadata": {},
   "outputs": [
    {
     "data": {
      "text/plain": [
       "0.9660285714285715"
      ]
     },
     "execution_count": 68,
     "metadata": {},
     "output_type": "execute_result"
    }
   ],
   "source": [
    "xgb_model.score(X_train,y_train)"
   ]
  },
  {
   "cell_type": "markdown",
   "id": "8a46b4a3",
   "metadata": {},
   "source": [
    "#### Plot the ROC curve."
   ]
  },
  {
   "cell_type": "code",
   "execution_count": 69,
   "id": "bfea929f",
   "metadata": {},
   "outputs": [
    {
     "data": {
      "image/png": "[encoded data removed]",
      "text/plain": [
       "<Figure size 1080x576 with 1 Axes>"
      ]
     },
     "metadata": {
      "needs_background": "light"
     },
     "output_type": "display_data"
    }
   ],
   "source": [
    "# call the function to plot the ROC curve\n",
    "# pass the XGBoost model to the function\n",
    "plot_roc(xgb_model)"
   ]
  },
  {
   "cell_type": "markdown",
   "id": "6a8a55f4",
   "metadata": {},
   "source": [
    "**Interpretation:** The red dotted line represents the ROC curve of a purely random classifier; a good classifier stays as far away from that line as possible (toward the top-left corner).<br>\n",
    "From the above plot, we can see that the XGBoost model is away from the dotted line; with the AUC score 0.7642"
   ]
  },
  {
   "cell_type": "markdown",
   "id": "9f5df5fe",
   "metadata": {},
   "source": [
    "### Identify the Important Features using XGBoost"
   ]
  },
  {
   "cell_type": "markdown",
   "id": "8a84f0a1",
   "metadata": {},
   "source": [
    "Let us create a barplot to identify the important feature in the dataset.\n",
    "\n",
    "The method `feature_importances_` returns the value corresponding to each feature which is defined as the ratio of the average gain across all the splits in which the feature is used to the total average gain of all the features.\n",
    "\n",
    "There are different methods like `weight`, `cover`, `total_gain` and `total_cover` which returns the feature importance based on different criteria.\n",
    "\n",
    "`weight`: It is the frequency of a feature used to split the data in all the trees.\n",
    "\n",
    "`cover`: It is the average cover value of a feature for all the splits.\n",
    "\n",
    "`total_gain`: It is the sum of gain of a feature for all the splits.\n",
    "\n",
    "`total_cover`: It is the sum of a cover of a feature for all the splits."
   ]
  },
  {
   "cell_type": "code",
   "execution_count": 70,
   "id": "4c78602e",
   "metadata": {},
   "outputs": [
    {
     "data": {
      "image/png": "[encoded data removed]",
      "text/plain": [
       "<Figure size 1080x576 with 1 Axes>"
      ]
     },
     "metadata": {
      "needs_background": "light"
     },
     "output_type": "display_data"
    }
   ],
   "source": [
    "# create a dataframe that stores the feature names and their importance\n",
    "# 'feature_importances_' returns the features based on the average gain \n",
    "important_features = pd.DataFrame({'Features': X_train.columns, \n",
    "                                   'Importance': xgb_model.feature_importances_})\n",
    "\n",
    "# sort the dataframe in the descending order according to the feature importance\n",
    "important_features = important_features.sort_values('Importance', ascending = False)\n",
    "\n",
    "# create a barplot to visualize the features based on their importance\n",
    "sns.barplot(x = 'Importance', y = 'Features', data = important_features)\n",
    "\n",
    "# add plot and axes labels\n",
    "# set text size using 'fontsize'\n",
    "plt.title('Feature Importance', fontsize = 15)\n",
    "plt.xlabel('Importance', fontsize = 15)\n",
    "plt.ylabel('Features', fontsize = 15)\n",
    "\n",
    "# display the plot\n",
    "plt.show()"
   ]
  },
  {
   "cell_type": "markdown",
   "id": "48913117",
   "metadata": {},
   "source": [
    "# Final Observation\n",
    "\n",
    "Based on the reports, the XGBoost model has the best performance. The train report shows that the precision, recall, and f1-score for both classes are very good. The test report also shows that the model is able to generalize well to unseen data.\n",
    "\n",
    "The random forest model also performs well, but the train report shows that the precision for class 1 is 1.00, which is not realistic. This suggests that the model is overfitting the training data. The test report shows that the model is not as accurate as the XGBoost model for class 1.\n",
    "\n",
    "The logistic regression model performs the worst. The train report shows that the precision and recall for class 1 are very low. The test report shows that the model is not able to generalize well to unseen data.\n",
    "\n",
    "Overall, the XGBoost model is the best model based on the performance measures you have provided.\n"
   ]
  },
  {
   "cell_type": "code",
   "execution_count": null,
   "id": "97be0eef",
   "metadata": {},
   "outputs": [],
   "source": []
  },
  {
   "cell_type": "code",
   "execution_count": null,
   "id": "f917d7e9",
   "metadata": {},
   "outputs": [],
   "source": []
  }
 ],
 "metadata": {
  "kernelspec": {
   "display_name": "Python 3 (ipykernel)",
   "language": "python",
   "name": "python3"
  },
  "language_info": {
   "codemirror_mode": {
    "name": "ipython",
    "version": 3
   },
   "file_extension": ".py",
   "mimetype": "text/x-python",
   "name": "python",
   "nbconvert_exporter": "python",
   "pygments_lexer": "ipython3",
   "version": "3.9.12"
  }
 },
 "nbformat": 4,
 "nbformat_minor": 5
}
